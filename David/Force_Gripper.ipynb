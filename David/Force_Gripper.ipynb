{
 "cells": [
  {
   "cell_type": "code",
   "execution_count": 17,
   "metadata": {},
   "outputs": [
    {
     "name": "stderr",
     "output_type": "stream",
     "text": [
      "WARNING:ursecmon:tried 11 times to find a packet in data, advertised packet size: -2, type: 3\n",
      "WARNING:ursecmon:Data length: 44\n",
      "WARNING:ursecmon:tried 11 times to find a packet in data, advertised packet size: -2, type: 3\n",
      "WARNING:ursecmon:Data length: 68\n",
      "WARNING:ursecmon:tried 11 times to find a packet in data, advertised packet size: -2, type: 3\n",
      "WARNING:ursecmon:Data length: 1092\n",
      "WARNING:ursecmon:tried 11 times to find a packet in data, advertised packet size: -2, type: 3\n",
      "WARNING:ursecmon:Data length: 1420\n"
     ]
    },
    {
     "ename": "AttributeError",
     "evalue": "'Robot' object has no attribute 'force'",
     "output_type": "error",
     "traceback": [
      "\u001b[0;31m---------------------------------------------------------------------------\u001b[0m",
      "\u001b[0;31mAttributeError\u001b[0m                            Traceback (most recent call last)",
      "\u001b[0;32m<ipython-input-17-441cb2afdf98>\u001b[0m in \u001b[0;36m<module>\u001b[0;34m()\u001b[0m\n\u001b[1;32m     43\u001b[0m \u001b[0;34m\u001b[0m\u001b[0m\n\u001b[1;32m     44\u001b[0m \u001b[0;34m\u001b[0m\u001b[0m\n\u001b[0;32m---> 45\u001b[0;31m \u001b[0mforce\u001b[0m \u001b[0;34m=\u001b[0m \u001b[0mrob\u001b[0m\u001b[0;34m.\u001b[0m\u001b[0mforce\u001b[0m\u001b[0;34m(\u001b[0m\u001b[0;34m)\u001b[0m\u001b[0;34m\u001b[0m\u001b[0m\n\u001b[0m\u001b[1;32m     46\u001b[0m \u001b[0;32mprint\u001b[0m \u001b[0mforce\u001b[0m\u001b[0;34m\u001b[0m\u001b[0m\n\u001b[1;32m     47\u001b[0m \u001b[0mpose\u001b[0m \u001b[0;34m=\u001b[0m \u001b[0mrob\u001b[0m\u001b[0;34m.\u001b[0m\u001b[0mgetj\u001b[0m\u001b[0;34m(\u001b[0m\u001b[0;34m)\u001b[0m\u001b[0;34m\u001b[0m\u001b[0m\n",
      "\u001b[0;31mAttributeError\u001b[0m: 'Robot' object has no attribute 'force'"
     ]
    }
   ],
   "source": [
    "# Importing Libraries\n",
    "import urx\n",
    "import logging\n",
    "import time\n",
    "from urx.robotiq_two_finger_gripper import Robotiq_Two_Finger_Gripper\n",
    "\n",
    "# defining important variables\n",
    "a = 0.2\n",
    "v = 0.3\n",
    "\n",
    "# defining joint angles of important positions\n",
    "cam_init_pos = [-0.006403748189107716, -1.9564278761493128, -0.4473179022418421, -1.808915917073385, -4.750971380864279, 0.04987834393978119]\n",
    "\n",
    "# logging\n",
    "logging.basicConfig(level=logging.WARN)\n",
    "\n",
    "# connecting to robot and initialising gripper\n",
    "rob = urx.Robot(\"192.168.1.6\")\n",
    "robotiqgrip = Robotiq_Two_Finger_Gripper(rob)\n",
    "\n",
    "# not sure what this does\n",
    "rob.set_tcp((0,0,0,0,0,0))\n",
    "rob.set_payload(0.5, (0,0,0))\n",
    "\n",
    "# initalise with gripper open\n",
    "robotiqgrip.open_gripper()\n",
    "\n",
    "# move to initial position\n",
    "#rob.movej(cam_init_pos, acc = a, vel = v)\n",
    "\n",
    "\n",
    "#rob.movej(bucket_pick, acc = a, vel = v)\n",
    "#rob.movej(hardcode_object_loc, acc = a, vel = v)\n",
    "\n",
    "\n",
    "#robotiqgrip.close_gripper()#\n",
    "\n",
    "rob.movej(cam_init_pos, acc = a, vel = v)\n",
    "\n",
    "#rob.movej(bucket_pos, acc = a, vel = v)\n",
    "\n",
    "#robotiqgrip.open_gripper()\n",
    "\n",
    "\n",
    "force = rob.force()\n",
    "print force\n",
    "pose = rob.getj()\n",
    "# pose = rob.get_pose()\n",
    "# pose = rob.get_orientation()\n",
    "print(\"robot tcp is at pose: \", pose)\n",
    "\n",
    "rob.close()"
   ]
  },
  {
   "cell_type": "code",
   "execution_count": null,
   "metadata": {},
   "outputs": [],
   "source": []
  }
 ],
 "metadata": {
  "kernelspec": {
   "display_name": "Python 2",
   "language": "python",
   "name": "python2"
  },
  "language_info": {
   "codemirror_mode": {
    "name": "ipython",
    "version": 2
   },
   "file_extension": ".py",
   "mimetype": "text/x-python",
   "name": "python",
   "nbconvert_exporter": "python",
   "pygments_lexer": "ipython2",
   "version": "2.7.16"
  }
 },
 "nbformat": 4,
 "nbformat_minor": 2
}
