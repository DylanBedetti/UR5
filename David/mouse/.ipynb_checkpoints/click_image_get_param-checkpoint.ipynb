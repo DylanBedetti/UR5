{
 "cells": [
  {
   "cell_type": "code",
   "execution_count": null,
   "metadata": {},
   "outputs": [
    {
     "name": "stdout",
     "output_type": "stream",
     "text": [
      "22\n"
     ]
    },
    {
     "ename": "SystemError",
     "evalue": "new style getargs format but argument is not a tuple",
     "output_type": "error",
     "traceback": [
      "\u001b[0;31m---------------------------------------------------------------------------\u001b[0m",
      "\u001b[0;31mSystemError\u001b[0m                               Traceback (most recent call last)",
      "\u001b[0;32m<ipython-input-3-6984d6c5e838>\u001b[0m in \u001b[0;36mget_pixel\u001b[0;34m(event, x, y, flags, param)\u001b[0m\n\u001b[1;32m     19\u001b[0m         \u001b[0mdist\u001b[0m \u001b[0;34m=\u001b[0m \u001b[0mint\u001b[0m\u001b[0;34m(\u001b[0m\u001b[0mnp\u001b[0m\u001b[0;34m.\u001b[0m\u001b[0msqrt\u001b[0m\u001b[0;34m(\u001b[0m\u001b[0;34m(\u001b[0m\u001b[0mrefPt2\u001b[0m\u001b[0;34m[\u001b[0m\u001b[0;36m0\u001b[0m\u001b[0;34m]\u001b[0m\u001b[0;34m[\u001b[0m\u001b[0;36m0\u001b[0m\u001b[0;34m]\u001b[0m\u001b[0;34m-\u001b[0m\u001b[0mrefPt1\u001b[0m\u001b[0;34m[\u001b[0m\u001b[0;36m0\u001b[0m\u001b[0;34m]\u001b[0m\u001b[0;34m[\u001b[0m\u001b[0;36m0\u001b[0m\u001b[0;34m]\u001b[0m\u001b[0;34m)\u001b[0m\u001b[0;34m**\u001b[0m\u001b[0;36m2\u001b[0m\u001b[0;34m+\u001b[0m\u001b[0;34m(\u001b[0m\u001b[0mrefPt2\u001b[0m\u001b[0;34m[\u001b[0m\u001b[0;36m0\u001b[0m\u001b[0;34m]\u001b[0m\u001b[0;34m[\u001b[0m\u001b[0;36m1\u001b[0m\u001b[0;34m]\u001b[0m\u001b[0;34m-\u001b[0m\u001b[0mrefPt1\u001b[0m\u001b[0;34m[\u001b[0m\u001b[0;36m0\u001b[0m\u001b[0;34m]\u001b[0m\u001b[0;34m[\u001b[0m\u001b[0;36m1\u001b[0m\u001b[0;34m]\u001b[0m\u001b[0;34m)\u001b[0m\u001b[0;34m**\u001b[0m\u001b[0;36m2\u001b[0m\u001b[0;34m)\u001b[0m\u001b[0;34m)\u001b[0m\u001b[0;34m\u001b[0m\u001b[0m\n\u001b[1;32m     20\u001b[0m         \u001b[0;32mprint\u001b[0m \u001b[0mdist\u001b[0m\u001b[0;34m\u001b[0m\u001b[0m\n\u001b[0;32m---> 21\u001b[0;31m         \u001b[0mcv2\u001b[0m\u001b[0;34m.\u001b[0m\u001b[0mcircle\u001b[0m\u001b[0;34m(\u001b[0m\u001b[0mimg\u001b[0m\u001b[0;34m,\u001b[0m\u001b[0mrefPt1\u001b[0m\u001b[0;34m,\u001b[0m\u001b[0mdist\u001b[0m\u001b[0;34m,\u001b[0m \u001b[0;34m(\u001b[0m\u001b[0;36m0\u001b[0m\u001b[0;34m,\u001b[0m\u001b[0;36m255\u001b[0m\u001b[0;34m,\u001b[0m\u001b[0;36m0\u001b[0m\u001b[0;34m)\u001b[0m\u001b[0;34m,\u001b[0m\u001b[0;36m2\u001b[0m\u001b[0;34m)\u001b[0m\u001b[0;34m\u001b[0m\u001b[0m\n\u001b[0m\u001b[1;32m     22\u001b[0m \u001b[0;34m\u001b[0m\u001b[0m\n\u001b[1;32m     23\u001b[0m \u001b[0;34m\u001b[0m\u001b[0m\n",
      "\u001b[0;31mSystemError\u001b[0m: new style getargs format but argument is not a tuple"
     ]
    }
   ],
   "source": [
    "import numpy as np \n",
    "import cv2\n",
    "\n",
    "def get_pixel(event,x,y,flags,param):\n",
    "    global refPt1,refPt2\n",
    "    global arr \n",
    "    global count\n",
    "    #count = 0\n",
    "    \n",
    "    #print 'it worked'\n",
    "    if event == cv2.EVENT_LBUTTONDOWN:\n",
    "        #cv2.circle(img,(x,y),100,(255,0,0),-1)\n",
    "        refPt1 =[(x,y)]\n",
    "        #print \"x coord: \" + str(mouseX)\n",
    "        #print \"y coord: \" + str(mouseY)\n",
    "        #print \"hsv: \" + str(HSV_img[mouseY,mouseX])\n",
    "    elif event ==cv2.EVENT_LBUTTONUP:\n",
    "        refPt2 =[(x,y)]\n",
    "        dist = int(np.sqrt((refPt2[0][0]-refPt1[0][0])**2+(refPt2[0][1]-refPt1[0][1])**2))\n",
    "        print dist\n",
    "        cv2.circle(img,refPt1[0],dist,(0,255,0),2)\n",
    "        \n",
    "        \n",
    "cv2.namedWindow('detect_HSV')\n",
    "cv2.setMouseCallback('detect_HSV',get_pixel)\n",
    "cv2.startWindowThread()\n",
    "img = cv2.imread('image.jpg')\n",
    "\n",
    "HSV_img = cv2.cvtColor(img,cv2.COLOR_BGR2HSV)\n",
    "#cv2.imshow('HSV image', HSV_img)\n",
    "ret = 0\n",
    "while(1):\n",
    "    cv2.imshow('detect_HSV',img)\n",
    "    k = cv2.waitKey(20) & 0xFF\n",
    "#     if k == ord('a'):\n",
    "#     print \"x coord: \" + str(mouseX)\n",
    "#     print \"y coord: \" + str(mouseY)\n",
    "#     print \"hsv: \" + str(HSV_img[mouseX,mouseY])\n",
    "    if k == ord('q'):\n",
    "        break\n",
    "    elif ret == 1:\n",
    "        break\n",
    "cv2.destroyWindow('detect_HSV')\n",
    "cv2.waitKey(1)\n"
   ]
  },
  {
   "cell_type": "code",
   "execution_count": null,
   "metadata": {},
   "outputs": [],
   "source": []
  }
 ],
 "metadata": {
  "kernelspec": {
   "display_name": "Python 2",
   "language": "python",
   "name": "python2"
  },
  "language_info": {
   "codemirror_mode": {
    "name": "ipython",
    "version": 2
   },
   "file_extension": ".py",
   "mimetype": "text/x-python",
   "name": "python",
   "nbconvert_exporter": "python",
   "pygments_lexer": "ipython2",
   "version": "2.7.16"
  }
 },
 "nbformat": 4,
 "nbformat_minor": 2
}
