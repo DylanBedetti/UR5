{
 "cells": [
  {
   "cell_type": "code",
   "execution_count": 8,
   "metadata": {},
   "outputs": [
    {
     "name": "stderr",
     "output_type": "stream",
     "text": [
      "WARNING:ursecmon:tried 11 times to find a packet in data, advertised packet size: -2, type: 3\n",
      "WARNING:ursecmon:Data length: 68\n",
      "WARNING:ursecmon:tried 11 times to find a packet in data, advertised packet size: -2, type: 3\n",
      "WARNING:ursecmon:Data length: 1092\n",
      "WARNING:ursecmon:tried 11 times to find a packet in data, advertised packet size: -2, type: 3\n",
      "WARNING:ursecmon:Data length: 1420\n"
     ]
    },
    {
     "name": "stdout",
     "output_type": "stream",
     "text": [
      "[7.152557373046875e-05, 0.0, 1.1920928955078125e-05, -0.4788784980773926, -4.792213439941406e-05, -7.190555334091187e-05]\n",
      "4.633448977789586\n",
      "5.423853905301664\n",
      "12.673754809167969\n",
      "5.839364037022118\n",
      "22.466437989510478\n",
      "22.70613775498329\n",
      "16.859420660920808\n"
     ]
    },
    {
     "name": "stderr",
     "output_type": "stream",
     "text": [
      "ERROR:ursecmon:Robot not running: {'isSecurityStopped': True, 'speedScaling': 0.0, 'isProgramPaused': False, 'timestamp': 4991288000, 'isRealRobotEnabled': True, 'speedFractionLimit': '?', 'isRobotConnected': True, 'robotMode': 7, 'isProgramRunning': True, 'isPowerOnRobot': True, 'isEmergencyStopped': False, 'speedFraction': 1.0, 'type': 0, 'controlMode': 0, 'size': 47}\n",
      "ERROR:ursecmon:Robot not running: {'isSecurityStopped': True, 'speedScaling': 0.0, 'isProgramPaused': False, 'timestamp': 4991288000, 'isRealRobotEnabled': True, 'speedFractionLimit': '?', 'isRobotConnected': True, 'robotMode': 7, 'isProgramRunning': True, 'isPowerOnRobot': True, 'isEmergencyStopped': False, 'speedFraction': 1.0, 'type': 0, 'controlMode': 0, 'size': 47}\n"
     ]
    },
    {
     "ename": "RobotException",
     "evalue": "Robot stopped",
     "output_type": "error",
     "traceback": [
      "\u001b[0;31m---------------------------------------------------------------------------\u001b[0m",
      "\u001b[0;31mRobotException\u001b[0m                            Traceback (most recent call last)",
      "\u001b[0;32m<ipython-input-8-3a9a2b1ec0dc>\u001b[0m in \u001b[0;36m<module>\u001b[0;34m()\u001b[0m\n\u001b[1;32m     66\u001b[0m     \u001b[0mtime\u001b[0m\u001b[0;34m.\u001b[0m\u001b[0msleep\u001b[0m\u001b[0;34m(\u001b[0m\u001b[0;36m1\u001b[0m\u001b[0;34m)\u001b[0m\u001b[0;34m\u001b[0m\u001b[0m\n\u001b[1;32m     67\u001b[0m     \u001b[0mforce\u001b[0m \u001b[0;34m=\u001b[0m \u001b[0mrob\u001b[0m\u001b[0;34m.\u001b[0m\u001b[0mget_force\u001b[0m\u001b[0;34m(\u001b[0m\u001b[0mwait\u001b[0m\u001b[0;34m=\u001b[0m\u001b[0mFalse\u001b[0m\u001b[0;34m)\u001b[0m\u001b[0;34m\u001b[0m\u001b[0m\n\u001b[0;32m---> 68\u001b[0;31m     \u001b[0mrob\u001b[0m\u001b[0;34m.\u001b[0m\u001b[0mmovej\u001b[0m\u001b[0;34m(\u001b[0m\u001b[0mtemp_pose\u001b[0m\u001b[0;34m,\u001b[0m \u001b[0macc\u001b[0m \u001b[0;34m=\u001b[0m \u001b[0ma\u001b[0m\u001b[0;34m,\u001b[0m \u001b[0mvel\u001b[0m \u001b[0;34m=\u001b[0m \u001b[0mv\u001b[0m\u001b[0;34m)\u001b[0m\u001b[0;34m\u001b[0m\u001b[0m\n\u001b[0m\u001b[1;32m     69\u001b[0m     \u001b[0mtemp_pose\u001b[0m\u001b[0;34m[\u001b[0m\u001b[0;36m2\u001b[0m\u001b[0;34m]\u001b[0m \u001b[0;34m+=\u001b[0m \u001b[0;34m-\u001b[0m\u001b[0;36m0.03\u001b[0m\u001b[0;34m\u001b[0m\u001b[0m\n\u001b[1;32m     70\u001b[0m     \u001b[0;32mprint\u001b[0m \u001b[0mforce\u001b[0m\u001b[0;34m\u001b[0m\u001b[0m\n",
      "\u001b[0;32m/anaconda3/envs/ur5/lib/python2.7/site-packages/urx-0.11.0-py2.7.egg/urx/urrobot.pyc\u001b[0m in \u001b[0;36mmovej\u001b[0;34m(self, joints, acc, vel, wait, relative, threshold)\u001b[0m\n\u001b[1;32m    277\u001b[0m         \u001b[0mself\u001b[0m\u001b[0;34m.\u001b[0m\u001b[0msend_program\u001b[0m\u001b[0;34m(\u001b[0m\u001b[0mprog\u001b[0m\u001b[0;34m)\u001b[0m\u001b[0;34m\u001b[0m\u001b[0m\n\u001b[1;32m    278\u001b[0m         \u001b[0;32mif\u001b[0m \u001b[0mwait\u001b[0m\u001b[0;34m:\u001b[0m\u001b[0;34m\u001b[0m\u001b[0m\n\u001b[0;32m--> 279\u001b[0;31m             \u001b[0mself\u001b[0m\u001b[0;34m.\u001b[0m\u001b[0m_wait_for_move\u001b[0m\u001b[0;34m(\u001b[0m\u001b[0mjoints\u001b[0m\u001b[0;34m[\u001b[0m\u001b[0;34m:\u001b[0m\u001b[0;36m6\u001b[0m\u001b[0;34m]\u001b[0m\u001b[0;34m,\u001b[0m \u001b[0mthreshold\u001b[0m\u001b[0;34m=\u001b[0m\u001b[0mthreshold\u001b[0m\u001b[0;34m,\u001b[0m \u001b[0mjoints\u001b[0m\u001b[0;34m=\u001b[0m\u001b[0mTrue\u001b[0m\u001b[0;34m)\u001b[0m\u001b[0;34m\u001b[0m\u001b[0m\n\u001b[0m\u001b[1;32m    280\u001b[0m             \u001b[0;32mreturn\u001b[0m \u001b[0mself\u001b[0m\u001b[0;34m.\u001b[0m\u001b[0mgetj\u001b[0m\u001b[0;34m(\u001b[0m\u001b[0;34m)\u001b[0m\u001b[0;34m\u001b[0m\u001b[0m\n\u001b[1;32m    281\u001b[0m \u001b[0;34m\u001b[0m\u001b[0m\n",
      "\u001b[0;32m/anaconda3/envs/ur5/lib/python2.7/site-packages/urx-0.11.0-py2.7.egg/urx/urrobot.pyc\u001b[0m in \u001b[0;36m_wait_for_move\u001b[0;34m(self, target, threshold, timeout, joints)\u001b[0m\n\u001b[1;32m    217\u001b[0m         \u001b[0;32mwhile\u001b[0m \u001b[0mTrue\u001b[0m\u001b[0;34m:\u001b[0m\u001b[0;34m\u001b[0m\u001b[0m\n\u001b[1;32m    218\u001b[0m             \u001b[0;32mif\u001b[0m \u001b[0;32mnot\u001b[0m \u001b[0mself\u001b[0m\u001b[0;34m.\u001b[0m\u001b[0mis_running\u001b[0m\u001b[0;34m(\u001b[0m\u001b[0;34m)\u001b[0m\u001b[0;34m:\u001b[0m\u001b[0;34m\u001b[0m\u001b[0m\n\u001b[0;32m--> 219\u001b[0;31m                 \u001b[0;32mraise\u001b[0m \u001b[0mRobotException\u001b[0m\u001b[0;34m(\u001b[0m\u001b[0;34m\"Robot stopped\"\u001b[0m\u001b[0;34m)\u001b[0m\u001b[0;34m\u001b[0m\u001b[0m\n\u001b[0m\u001b[1;32m    220\u001b[0m             \u001b[0mdist\u001b[0m \u001b[0;34m=\u001b[0m \u001b[0mself\u001b[0m\u001b[0;34m.\u001b[0m\u001b[0m_get_dist\u001b[0m\u001b[0;34m(\u001b[0m\u001b[0mtarget\u001b[0m\u001b[0;34m,\u001b[0m \u001b[0mjoints\u001b[0m\u001b[0;34m)\u001b[0m\u001b[0;34m\u001b[0m\u001b[0m\n\u001b[1;32m    221\u001b[0m             \u001b[0mself\u001b[0m\u001b[0;34m.\u001b[0m\u001b[0mlogger\u001b[0m\u001b[0;34m.\u001b[0m\u001b[0mdebug\u001b[0m\u001b[0;34m(\u001b[0m\u001b[0;34m\"distance to target is: %s, target dist is %s\"\u001b[0m\u001b[0;34m,\u001b[0m \u001b[0mdist\u001b[0m\u001b[0;34m,\u001b[0m \u001b[0mthreshold\u001b[0m\u001b[0;34m)\u001b[0m\u001b[0;34m\u001b[0m\u001b[0m\n",
      "\u001b[0;31mRobotException\u001b[0m: Robot stopped"
     ]
    },
    {
     "name": "stderr",
     "output_type": "stream",
     "text": [
      "Exception in thread Thread-10:\n",
      "Traceback (most recent call last):\n",
      "  File \"/anaconda3/envs/ur5/lib/python2.7/threading.py\", line 801, in __bootstrap_inner\n",
      "    self.run()\n",
      "  File \"/anaconda3/envs/ur5/lib/python2.7/site-packages/urx-0.11.0-py2.7.egg/urx/ursecmon.py\", line 289, in run\n",
      "    data = self._get_data()\n",
      "  File \"/anaconda3/envs/ur5/lib/python2.7/site-packages/urx-0.11.0-py2.7.egg/urx/ursecmon.py\", line 336, in _get_data\n",
      "    tmp = self._s_secondary.recv(1024)\n",
      "timeout: timed out\n",
      "\n",
      "Exception in thread Thread-16:\n",
      "Traceback (most recent call last):\n",
      "  File \"/anaconda3/envs/ur5/lib/python2.7/threading.py\", line 801, in __bootstrap_inner\n",
      "    self.run()\n",
      "  File \"/anaconda3/envs/ur5/lib/python2.7/site-packages/urx-0.11.0-py2.7.egg/urx/ursecmon.py\", line 289, in run\n",
      "    data = self._get_data()\n",
      "  File \"/anaconda3/envs/ur5/lib/python2.7/site-packages/urx-0.11.0-py2.7.egg/urx/ursecmon.py\", line 336, in _get_data\n",
      "    tmp = self._s_secondary.recv(1024)\n",
      "timeout: timed out\n",
      "\n"
     ]
    }
   ],
   "source": [
    "# Importing Libraries\n",
    "import urx\n",
    "import logging\n",
    "import time\n",
    "from urx.robotiq_two_finger_gripper import Robotiq_Two_Finger_Gripper\n",
    "\n",
    "# defining important variables\n",
    "a = 0.2\n",
    "v = 0.3\n",
    "\n",
    "# defining joint angles of important positions\n",
    "cam_init_pos        = [-0.006403748189107716, -1.9564278761493128, -0.4473179022418421, -1.808915917073385, -4.750971380864279, 0.04987834393978119]\n",
    "cam_init_pos_pickup = [-0.006332222615377248, -1.9564278761493128, -0.447305981312887, -2.2877944151507776, -4.751019302998678, 0.04980643838644028]\n",
    "#diff = cam_init_pos_pickup - cam_init_pos\n",
    "diff = cam_init_pos\n",
    "\n",
    "i = 0\n",
    "while(i <= 5):\n",
    "    diff[i] = cam_init_pos_pickup[i]-cam_init_pos[i]\n",
    "    i+=1\n",
    "#print diff\n",
    "bucket_pos = [1.6486937999725342, -2.4073990027057093, -1.8858941237079065, -0.36886865297426397, -4.742553655301229, 0.0471811443567276]\n",
    "hardcode_object_loc = [-0.024045769368306935, -1.8617809454547327, -1.511141602193014, -1.4511950651751917, -4.672266546879904, 0.047373268753290176]\n",
    "bucket_pick = [-0.04573041597475225, -1.8159015814410608, -1.2815788427936, -1.4384973684894007, -4.67054266134371, 0.04719312861561775]\n",
    "\n",
    "\n",
    "# logging\n",
    "logging.basicConfig(level=logging.WARN)\n",
    "\n",
    "# connecting to robot and initialising gripper\n",
    "rob = urx.Robot(\"192.168.1.6\", use_rt=True)\n",
    "#rob = urx.Robot(\"192.168.1.6\", use_rt=False)\n",
    "robotiqgrip = Robotiq_Two_Finger_Gripper(rob)\n",
    "\n",
    "# not sure what this does\n",
    "rob.set_tcp((0,0,0,0,0,0))\n",
    "rob.set_payload(0.5, (0,0,0))\n",
    "\n",
    "# initalise with gripper open\n",
    "robotiqgrip.open_gripper()\n",
    "\n",
    "# move to initial position\n",
    "#rob.movej(cam_init_pos, acc = a, vel = v)\n",
    "\n",
    "\n",
    "#rob.movej(bucket_pick, acc = a, vel = v)\n",
    "#rob.movej(hardcode_object_loc, acc = a, vel = v)\n",
    "\n",
    "\n",
    "#robotiqgrip.close_gripper()#\n",
    "print diff\n",
    "\n",
    "temp_pose = rob.getj()\n",
    "i = 0\n",
    "#temp_pose[3] = -2.2877944151507776\n",
    "rob.movej(temp_pose, acc = a, vel = v)\n",
    "#rob.movej(cam_init_pos_pickup, acc = a, vel = v)\n",
    "\n",
    "#rob.movej(bucket_pos, acc = a, vel = v)\n",
    "\n",
    "#robotiqgrip.open_gripper()\n",
    "\n",
    "j = 0\n",
    "while(j <= 10):\n",
    "    j+=1\n",
    "    time.sleep(1)\n",
    "    force = rob.get_force(wait=False)\n",
    "    rob.movej(temp_pose, acc = a, vel = v)\n",
    "    temp_pose[2] += -0.03\n",
    "    print force\n",
    "\n",
    "pose = rob.getj()\n",
    "# pose = rob.get_pose()\n",
    "# pose = rob.get_orientation()\n",
    "print(\"robot tcp is at pose: \", pose)\n",
    "\n",
    "rob.close()"
   ]
  },
  {
   "cell_type": "code",
   "execution_count": null,
   "metadata": {},
   "outputs": [],
   "source": []
  }
 ],
 "metadata": {
  "kernelspec": {
   "display_name": "Python 2",
   "language": "python",
   "name": "python2"
  },
  "language_info": {
   "codemirror_mode": {
    "name": "ipython",
    "version": 2
   },
   "file_extension": ".py",
   "mimetype": "text/x-python",
   "name": "python",
   "nbconvert_exporter": "python",
   "pygments_lexer": "ipython2",
   "version": "2.7.16"
  }
 },
 "nbformat": 4,
 "nbformat_minor": 2
}
