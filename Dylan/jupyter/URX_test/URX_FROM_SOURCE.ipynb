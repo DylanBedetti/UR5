{
 "cells": [
  {
   "cell_type": "code",
   "execution_count": 47,
   "metadata": {},
   "outputs": [
    {
     "name": "stderr",
     "output_type": "stream",
     "text": [
      "WARNING:ursecmon:tried 11 times to find a packet in data, advertised packet size: -2, type: 3\n",
      "WARNING:ursecmon:Data length: 68\n",
      "WARNING:ursecmon:tried 11 times to find a packet in data, advertised packet size: -2, type: 3\n",
      "WARNING:ursecmon:Data length: 1092\n",
      "WARNING:ursecmon:tried 11 times to find a packet in data, advertised packet size: -2, type: 3\n",
      "WARNING:ursecmon:Data length: 1420\n"
     ]
    },
    {
     "name": "stdout",
     "output_type": "stream",
     "text": [
      "('robot tcp is at: ', [0.40170529488917917, -0.1592917204267104, 0.4821921099710175, -1.2039065301892373, 1.0349451756924852, -1.3908825884872489])\n",
      "absolute move in base coordinate \n",
      "relative move in base coordinate \n",
      "relative move back and forth in tool coordinate\n"
     ]
    },
    {
     "name": "stderr",
     "output_type": "stream",
     "text": [
      "ERROR:ursecmon:Robot not running: {'isSecurityStopped': True, 'speedScaling': 0.359375, 'isProgramPaused': False, 'timestamp': 5137312000L, 'isRealRobotEnabled': True, 'speedFractionLimit': '?', 'isRobotConnected': True, 'robotMode': 7, 'isProgramRunning': True, 'isPowerOnRobot': True, 'isEmergencyStopped': False, 'speedFraction': 1.0, 'type': 0, 'controlMode': 0, 'size': 47}\n",
      "ERROR:ursecmon:Robot not running: {'isSecurityStopped': True, 'speedScaling': 1.0, 'isProgramPaused': False, 'timestamp': 5239752000L, 'isRealRobotEnabled': True, 'speedFractionLimit': '?', 'isRobotConnected': True, 'robotMode': 7, 'isProgramRunning': True, 'isPowerOnRobot': True, 'isEmergencyStopped': False, 'speedFraction': 1.0, 'type': 0, 'controlMode': 0, 'size': 47}\n",
      "ERROR:ursecmon:Robot not running: {'isSecurityStopped': True, 'speedScaling': 0.040771761958782314, 'isProgramPaused': False, 'timestamp': 5641872000L, 'isRealRobotEnabled': True, 'speedFractionLimit': '?', 'isRobotConnected': True, 'robotMode': 7, 'isProgramRunning': True, 'isPowerOnRobot': True, 'isEmergencyStopped': False, 'speedFraction': 1.0, 'type': 0, 'controlMode': 0, 'size': 47}\n",
      "ERROR:ursecmon:Robot not running: {'isSecurityStopped': True, 'speedScaling': 0.0004628326759804998, 'isProgramPaused': False, 'timestamp': 5715680000L, 'isRealRobotEnabled': True, 'speedFractionLimit': '?', 'isRobotConnected': True, 'robotMode': 7, 'isProgramRunning': True, 'isPowerOnRobot': True, 'isEmergencyStopped': False, 'speedFraction': 1.0, 'type': 0, 'controlMode': 0, 'size': 47}\n",
      "ERROR:ursecmon:Robot not running: {'isSecurityStopped': True, 'speedScaling': 1.0, 'isProgramPaused': False, 'timestamp': 5915320000L, 'isRealRobotEnabled': True, 'speedFractionLimit': '?', 'isRobotConnected': True, 'robotMode': 7, 'isProgramRunning': True, 'isPowerOnRobot': True, 'isEmergencyStopped': False, 'speedFraction': 1.0, 'type': 0, 'controlMode': 0, 'size': 47}\n",
      "ERROR:ursecmon:Robot not running: {'isSecurityStopped': True, 'speedScaling': 1.0, 'isProgramPaused': False, 'timestamp': 5963384000L, 'isRealRobotEnabled': True, 'speedFractionLimit': '?', 'isRobotConnected': True, 'robotMode': 7, 'isProgramRunning': True, 'isPowerOnRobot': True, 'isEmergencyStopped': False, 'speedFraction': 1.0, 'type': 0, 'controlMode': 0, 'size': 47}\n"
     ]
    }
   ],
   "source": [
    "import urx\n",
    "import logging\n",
    "\n",
    "if __name__ == \"__main__\":\n",
    "    logging.basicConfig(level=logging.WARN)\n",
    "\n",
    "    rob = urx.Robot(\"192.168.1.6\")\n",
    "    #rob = urx.Robot(\"localhost\")\n",
    "    rob.set_tcp((0,0,0,0,0,0))\n",
    "    rob.set_payload(0.5, (0,0,0))\n",
    "    try:\n",
    "        l = 0.05\n",
    "        v = 0.05\n",
    "        a = 0.3\n",
    "        pose = rob.getl()\n",
    "        print(\"robot tcp is at: \", pose)\n",
    "        print(\"absolute move in base coordinate \")\n",
    "        pose[2] += l\n",
    "        rob.movel(pose, acc=a, vel=v)\n",
    "        print(\"relative move in base coordinate \")\n",
    "        rob.translate((0, 0, -l), acc=a, vel=v)\n",
    "        print(\"relative move back and forth in tool coordinate\")\n",
    "        rob.translate_tool((0, 0, -l), acc=a, vel=v)\n",
    "        rob.translate_tool((0, 0, l), acc=a, vel=v)\n",
    "    finally:\n",
    "        rob.close()"
   ]
  },
  {
   "cell_type": "code",
   "execution_count": 49,
   "metadata": {},
   "outputs": [
    {
     "name": "stderr",
     "output_type": "stream",
     "text": [
      "WARNING:ursecmon:tried 11 times to find a packet in data, advertised packet size: -2, type: 3\n",
      "WARNING:ursecmon:Data length: 68\n",
      "WARNING:ursecmon:tried 11 times to find a packet in data, advertised packet size: -2, type: 3\n",
      "WARNING:ursecmon:Data length: 1092\n",
      "WARNING:ursecmon:tried 11 times to find a packet in data, advertised packet size: -2, type: 3\n",
      "WARNING:ursecmon:Data length: 1420\n"
     ]
    },
    {
     "name": "stdout",
     "output_type": "stream",
     "text": [
      "true\n"
     ]
    },
    {
     "name": "stderr",
     "output_type": "stream",
     "text": [
      "ERROR:ursecmon:Robot not running: {'isSecurityStopped': True, 'speedScaling': 0.0, 'isProgramPaused': False, 'timestamp': 6045448000L, 'isRealRobotEnabled': True, 'speedFractionLimit': '?', 'isRobotConnected': True, 'robotMode': 7, 'isProgramRunning': False, 'isPowerOnRobot': True, 'isEmergencyStopped': False, 'speedFraction': 1.0, 'type': 0, 'controlMode': 0, 'size': 47}\n"
     ]
    }
   ],
   "source": [
    "import sys\n",
    "import urx\n",
    "from urx.robotiq_two_finger_gripper import Robotiq_Two_Finger_Gripper\n",
    "\n",
    "if __name__ == '__main__':\n",
    "    rob = urx.Robot(\"192.168.1.6\")\n",
    "    robotiqgrip = Robotiq_Two_Finger_Gripper(rob)\n",
    "\n",
    "#     if(len(sys.argv) != 2):\n",
    "#         print \"false\"\n",
    "#         sys.exit()\n",
    "\n",
    "#     if(sys.argv[1] == \"close\") :\n",
    "    robotiqgrip.close_gripper()\n",
    "#     if(sys.argv[1] == \"open\") :\n",
    "    robotiqgrip.open_gripper()\n",
    "    robotiqgrip.close_gripper()\n",
    "    robotiqgrip.open_gripper()\n",
    "    robotiqgrip.close_gripper()\n",
    "    robotiqgrip.open_gripper()\n",
    "    robotiqgrip.close_gripper()\n",
    "    robotiqgrip.open_gripper()\n",
    "\n",
    "#     rob.send_program(robotiqgrip.ret_program_to_run())\n",
    "\n",
    "    rob.close()\n",
    "    print \"true\"\n",
    "#     sys.exit()"
   ]
  },
  {
   "cell_type": "code",
   "execution_count": 28,
   "metadata": {},
   "outputs": [
    {
     "ename": "SystemExit",
     "evalue": "",
     "output_type": "error",
     "traceback": [
      "\u001b[1;31m---------------------------------------------------------------------------\u001b[0m",
      "\u001b[1;31mSystemExit\u001b[0m                                Traceback (most recent call last)",
      "\u001b[1;32m<ipython-input-27-04bce53b296c>\u001b[0m in \u001b[0;36m<module>\u001b[1;34m()\u001b[0m\n\u001b[0;32m     20\u001b[0m     \u001b[0mrob\u001b[0m\u001b[1;33m.\u001b[0m\u001b[0mclose\u001b[0m\u001b[1;33m(\u001b[0m\u001b[1;33m)\u001b[0m\u001b[1;33m\u001b[0m\u001b[0m\n\u001b[0;32m     21\u001b[0m     \u001b[1;32mprint\u001b[0m \u001b[1;34m\"true\"\u001b[0m\u001b[1;33m\u001b[0m\u001b[0m\n\u001b[1;32m---> 22\u001b[1;33m     \u001b[0msys\u001b[0m\u001b[1;33m.\u001b[0m\u001b[0mexit\u001b[0m\u001b[1;33m(\u001b[0m\u001b[1;33m)\u001b[0m\u001b[1;33m\u001b[0m\u001b[0m\n\u001b[0m",
      "\u001b[1;31mSystemExit\u001b[0m: "
     ]
    }
   ],
   "source": [
    "%tb"
   ]
  },
  {
   "cell_type": "code",
   "execution_count": 46,
   "metadata": {},
   "outputs": [
    {
     "name": "stderr",
     "output_type": "stream",
     "text": [
      "WARNING:ursecmon:tried 11 times to find a packet in data, advertised packet size: -2, type: 3\n",
      "WARNING:ursecmon:Data length: 68\n",
      "WARNING:ursecmon:tried 11 times to find a packet in data, advertised packet size: -2, type: 3\n",
      "WARNING:ursecmon:Data length: 1092\n",
      "WARNING:ursecmon:tried 11 times to find a packet in data, advertised packet size: -2, type: 3\n",
      "WARNING:ursecmon:Data length: 1420\n"
     ]
    },
    {
     "name": "stdout",
     "output_type": "stream",
     "text": [
      "('robot tcp is at: ', [0.40168473135969385, -0.15922128337596522, 0.4821350491114774, -1.2037194207043498, 1.0348921624456575, -1.390579107694315])\n",
      "absolute move in base coordinate \n",
      "relative move in base coordinate \n",
      "relative move back and forth in tool coordinate\n"
     ]
    }
   ],
   "source": [
    "import urx\n",
    "import logging\n",
    "\n",
    "if __name__ == \"__main__\":\n",
    "    logging.basicConfig(level=logging.WARN)\n",
    "\n",
    "    rob = urx.Robot(\"192.168.1.6\")\n",
    "    #rob = urx.Robot(\"localhost\")\n",
    "    rob.set_tcp((0,0,0,0,0,0))\n",
    "    rob.set_payload(0.5, (0,0,0))\n",
    "    try:\n",
    "        l = 0.2\n",
    "        v = 0.05\n",
    "        a = 0.5\n",
    "        pose = rob.getl()\n",
    "        print(\"robot tcp is at: \", pose)\n",
    "        print(\"absolute move in base coordinate \")\n",
    "        pose[2] += l\n",
    "        rob.movel(pose, acc=a, vel=v)\n",
    "        print(\"relative move in base coordinate \")\n",
    "        rob.translate((0, 0, -l), acc=a, vel=v)\n",
    "        print(\"relative move back and forth in tool coordinate\")\n",
    "        rob.translate_tool((0, 0, -l), acc=a, vel=v)\n",
    "        rob.translate_tool((0, 0, l), acc=a, vel=v)\n",
    "    finally:\n",
    "        rob.close()\n"
   ]
  },
  {
   "cell_type": "code",
   "execution_count": null,
   "metadata": {},
   "outputs": [],
   "source": []
  }
 ],
 "metadata": {
  "kernelspec": {
   "display_name": "Python 2",
   "language": "python",
   "name": "python2"
  },
  "language_info": {
   "codemirror_mode": {
    "name": "ipython",
    "version": 2
   },
   "file_extension": ".py",
   "mimetype": "text/x-python",
   "name": "python",
   "nbconvert_exporter": "python",
   "pygments_lexer": "ipython2",
   "version": "2.7.16"
  }
 },
 "nbformat": 4,
 "nbformat_minor": 2
}
