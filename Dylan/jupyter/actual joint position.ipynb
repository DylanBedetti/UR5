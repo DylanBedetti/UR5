{
 "cells": [
  {
   "cell_type": "code",
   "execution_count": 9,
   "metadata": {},
   "outputs": [
    {
     "name": "stdout",
     "output_type": "stream",
     "text": [
      "Connection Established...\n",
      "Beginning movement...\n"
     ]
    }
   ],
   "source": [
    "\"\"\"\n",
    "Move Test\n",
    "\n",
    "This program is responsible for testing whether the robot arm can be moved when requested\n",
    "to by our program.\n",
    "\"\"\"\n",
    "\n",
    "import socket\n",
    "import time\n",
    "\n",
    "#Specify what we want to connect to\n",
    "HOST = \"192.168.1.6\"\n",
    "PORT = 30002\n",
    "\n",
    "#Create a TCP/IP socket to send and receive information\n",
    "s = socket.socket(socket.AF_INET, socket.SOCK_STREAM)\n",
    "s.connect((HOST, PORT))\n",
    "\n",
    "#State a connection has been established\n",
    "print(\"Connection Established...\")\n",
    "time.sleep(2)\n",
    "print(\"Beginning movement...\")\n",
    "# mess = \"movej(p[0.6, 0.3, 0, 2.22, -2.22, 0.00], a=1.0, v=0.1)\" + \"\\n\"\n",
    "# mess = \"movej(p[0.56308, -0.0425, 0.23595, 2.564, -2.274, 0.497], a=1.0, v=0.5)\" + \"\\n\"\n",
    "# mess = \"return get_actual_joint_positions()\"\n",
    "# mess = \"set_digital_out(8, 1)\"\n",
    "mess = 'rpc_factory(\"xmlrpc\", \"http://127.0.0.1:8080/RPC2\")'\n",
    "s.send(mess.encode())\n",
    "time.sleep(2)\n",
    "\n",
    "\n",
    "# data = s.recv(1024)\n",
    "\n",
    "\n",
    "#Close the socket\n",
    "s.close()\n",
    "\n",
    "# print (\"Received\", repr(data))"
   ]
  },
  {
   "cell_type": "code",
   "execution_count": null,
   "metadata": {},
   "outputs": [],
   "source": []
  }
 ],
 "metadata": {
  "kernelspec": {
   "display_name": "Python 3",
   "language": "python",
   "name": "python3"
  },
  "language_info": {
   "codemirror_mode": {
    "name": "ipython",
    "version": 3
   },
   "file_extension": ".py",
   "mimetype": "text/x-python",
   "name": "python",
   "nbconvert_exporter": "python",
   "pygments_lexer": "ipython3",
   "version": "3.6.8"
  }
 },
 "nbformat": 4,
 "nbformat_minor": 2
}
