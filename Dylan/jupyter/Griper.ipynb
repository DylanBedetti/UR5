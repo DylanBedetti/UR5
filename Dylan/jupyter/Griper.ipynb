{
 "cells": [
  {
   "cell_type": "code",
   "execution_count": 6,
   "metadata": {},
   "outputs": [],
   "source": [
    "import socket\n",
    "import time\n",
    "import cv2\n",
    "import requests\n",
    "import shutil\n",
    "import time\n",
    "\n",
    "#Specify what we want to connect to\n",
    "HOST = \"192.168.1.6\"\n",
    "PORT = 30002\n",
    "\n",
    "# Create a TCP/IP socket to send and receive information\n",
    "s = socket.socket(socket.AF_INET, socket.SOCK_STREAM)\n",
    "s.connect((HOST, PORT))\n",
    "\n",
    "\n",
    "f = open (\"gripper_tutorial2_new.script\", \"rb\")  #Robotiq FT sensor\n",
    "\n",
    "l = f.read(1024)\n",
    "while (l):\n",
    "    s.send(l)\n",
    "    l = f.read(1024)\n"
   ]
  },
  {
   "cell_type": "code",
   "execution_count": null,
   "metadata": {},
   "outputs": [],
   "source": []
  }
 ],
 "metadata": {
  "kernelspec": {
   "display_name": "Python 3",
   "language": "python",
   "name": "python3"
  },
  "language_info": {
   "codemirror_mode": {
    "name": "ipython",
    "version": 3
   },
   "file_extension": ".py",
   "mimetype": "text/x-python",
   "name": "python",
   "nbconvert_exporter": "python",
   "pygments_lexer": "ipython3",
   "version": "3.6.8"
  }
 },
 "nbformat": 4,
 "nbformat_minor": 2
}
