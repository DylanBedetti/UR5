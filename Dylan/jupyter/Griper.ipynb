{
 "cells": [
  {
   "cell_type": "code",
   "execution_count": 17,
   "metadata": {},
   "outputs": [],
   "source": [
    "import socket\n",
    "import time\n",
    "import cv2\n",
    "import requests\n",
    "import shutil\n",
    "import time\n",
    "\n",
    "#Specify what we want to connect to\n",
    "HOST = \"192.168.1.6\"\n",
    "PORT = 30002\n",
    "\n",
    "# Create a TCP/IP socket to send and receive information\n",
    "s = socket.socket(socket.AF_INET, socket.SOCK_STREAM)\n",
    "s.connect((HOST, PORT))\n",
    "\n",
    "\n",
    "f = open (\"gripper_tutorial2_new.script\", \"rb\")  #Robotiq FT sensor\n",
    "\n",
    "l = f.read(1024)\n",
    "while (l):\n",
    "    s.send(l)\n",
    "    l = f.read(1024)\n"
   ]
  },
  {
   "cell_type": "code",
   "execution_count": 16,
   "metadata": {},
   "outputs": [
    {
     "name": "stdout",
     "output_type": "stream",
     "text": [
      "init\n",
      "opening\n",
      "close\n",
      "opening\n"
     ]
    },
    {
     "ename": "KeyboardInterrupt",
     "evalue": "",
     "output_type": "error",
     "traceback": [
      "\u001b[1;31m---------------------------------------------------------------------------\u001b[0m",
      "\u001b[1;31mKeyboardInterrupt\u001b[0m                         Traceback (most recent call last)",
      "\u001b[1;32m<ipython-input-16-49c47dd29316>\u001b[0m in \u001b[0;36m<module>\u001b[1;34m\u001b[0m\n\u001b[0;32m     33\u001b[0m \u001b[1;31m#     data = binascii.hexlify(data_raw)\u001b[0m\u001b[1;33m\u001b[0m\u001b[1;33m\u001b[0m\u001b[1;33m\u001b[0m\u001b[0m\n\u001b[0;32m     34\u001b[0m \u001b[1;31m#     print \"Response 3 \", data\u001b[0m\u001b[1;33m\u001b[0m\u001b[1;33m\u001b[0m\u001b[1;33m\u001b[0m\u001b[0m\n\u001b[1;32m---> 35\u001b[1;33m     \u001b[0mtime\u001b[0m\u001b[1;33m.\u001b[0m\u001b[0msleep\u001b[0m\u001b[1;33m(\u001b[0m\u001b[1;36m2\u001b[0m\u001b[1;33m)\u001b[0m\u001b[1;33m\u001b[0m\u001b[1;33m\u001b[0m\u001b[0m\n\u001b[0m\u001b[0;32m     36\u001b[0m \u001b[1;33m\u001b[0m\u001b[0m\n\u001b[0;32m     37\u001b[0m \u001b[1;33m\u001b[0m\u001b[0m\n",
      "\u001b[1;31mKeyboardInterrupt\u001b[0m: "
     ]
    }
   ],
   "source": [
    "import time\n",
    "\n",
    "HOST = \"192.168.1.6\"\n",
    "PORT = 30002\n",
    "\n",
    "s = socket.socket(socket.AF_INET, socket.SOCK_STREAM)\n",
    "s.connect((HOST, PORT))\n",
    "\n",
    "counter = 0\n",
    "\n",
    "while counter < 1:\n",
    "    counter = counter + 1\n",
    "    print(\"init\")\n",
    "    s.send(\"\\x09\\x10\\x03\\xE8\\x00\\x03\\x06\\x00\\x00\\x00\\x00\\x00\\x00\\x73\\x30\".encode())\n",
    "#     data_raw = ser.readline()\n",
    "#     print(data_raw)\n",
    "#     data = binascii.hexlify(data_raw)\n",
    "#     print(\"Response 1 \", data)\n",
    "#     time.sleep(0.01)\n",
    "    s.send(\"\\x09\\x03\\x07\\xD0\\x00\\x01\\x85\\xCF\".encode())\n",
    "#     data_raw = ser.readline()\n",
    "#     print(data_raw)\n",
    "#     data = binascii.hexlify(data_raw)\n",
    "#     print(\"Response 2 \", data)\n",
    "    time.sleep(1)\n",
    "\n",
    "while True:\n",
    "    print(\"opening\")\n",
    "#     print \"Close gripper\"\n",
    "    s.send(\"\\x09\\x10\\x03\\xE8\\x00\\x03\\x06\\x09\\x00\\x00\\xFF\\xFF\\xFF\\x42\\x29\".encode())\n",
    "#     data_raw = ser.readline()\n",
    "#     print(data_raw)\n",
    "#     data = binascii.hexlify(data_raw)\n",
    "#     print \"Response 3 \", data\n",
    "    time.sleep(2)\n",
    "\n",
    " \n",
    "#     print \"Open gripper\"\n",
    "    print(\"close\")\n",
    "    s.send(\"\\x09\\x10\\x03\\xE8\\x00\\x03\\x06\\x09\\x00\\x00\\x00\\xFF\\xFF\\x72\\x19\".encode())\n",
    "#     data_raw = ser.readline()\n",
    "#     print(data_raw)\n",
    "#     data = binascii.hexlify(data_raw)\n",
    "#     print \"Response 4 \", data\n",
    "\n",
    "    time.sleep(2)"
   ]
  },
  {
   "cell_type": "code",
   "execution_count": null,
   "metadata": {},
   "outputs": [],
   "source": [
    "\"\"\"\n",
    "Move Test\n",
    "\n",
    "This program is responsible for testing whether the robot arm can be moved when requested\n",
    "to by our program.\n",
    "\"\"\"\n",
    "\n",
    "import socket\n",
    "import time\n",
    "\n",
    "#Specify what we want to connect to\n",
    "HOST = \"192.168.1.6\"\n",
    "PORT = 30002\n",
    "\n",
    "#Create a TCP/IP socket to send and receive information\n",
    "s = socket.socket(socket.AF_INET, socket.SOCK_STREAM)\n",
    "s.connect((HOST, PORT))\n",
    "\n",
    "#State a connection has been established\n",
    "print(\"Connection Established...\")\n",
    "time.sleep(2)\n",
    "print(\"Beginning movement...\")\n",
    "# mess = \"movej(p[0.6, 0.3, 0, 2.22, -2.22, 0.00], a=1.0, v=0.1)\" + \"\\n\"\n",
    "# mess = \"movej(p[0.56308, -0.0425, 0.23595, 2.564, -2.274, 0.497], a=1.0, v=0.5)\" + \"\\n\"\n",
    "\n",
    "s.send(mess.encode())\n",
    "time.sleep(2)\n",
    "\n",
    "#Close the socket\n",
    "s.close()"
   ]
  },
  {
   "cell_type": "code",
   "execution_count": null,
   "metadata": {},
   "outputs": [],
   "source": []
  }
 ],
 "metadata": {
  "kernelspec": {
   "display_name": "Python 3",
   "language": "python",
   "name": "python3"
  },
  "language_info": {
   "codemirror_mode": {
    "name": "ipython",
    "version": 3
   },
   "file_extension": ".py",
   "mimetype": "text/x-python",
   "name": "python",
   "nbconvert_exporter": "python",
   "pygments_lexer": "ipython3",
   "version": "3.7.4"
  }
 },
 "nbformat": 4,
 "nbformat_minor": 2
}
