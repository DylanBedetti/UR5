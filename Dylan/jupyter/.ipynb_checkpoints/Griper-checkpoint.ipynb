{
 "cells": [
  {
   "cell_type": "code",
   "execution_count": 6,
   "metadata": {},
   "outputs": [],
   "source": [
    "import socket\n",
    "import time\n",
    "import cv2\n",
    "import requests\n",
    "import shutil\n",
    "import time\n",
    "\n",
    "#Specify what we want to connect to\n",
    "HOST = \"192.168.1.6\"\n",
    "PORT = 30002\n",
    "\n",
    "# Create a TCP/IP socket to send and receive information\n",
    "s = socket.socket(socket.AF_INET, socket.SOCK_STREAM)\n",
    "s.connect((HOST, PORT))\n",
    "\n",
    "\n",
    "f = open (\"gripper_tutorial2_new.script\", \"rb\")  #Robotiq FT sensor\n",
    "\n",
    "l = f.read(1024)\n",
    "while (l):\n",
    "    s.send(l)\n",
    "    l = f.read(1024)\n"
   ]
  },
  {
   "cell_type": "code",
   "execution_count": 8,
   "metadata": {},
   "outputs": [
    {
     "ename": "IndentationError",
     "evalue": "unindent does not match any outer indentation level (<tokenize>, line 58)",
     "output_type": "error",
     "traceback": [
      "\u001b[1;36m  File \u001b[1;32m\"<tokenize>\"\u001b[1;36m, line \u001b[1;32m58\u001b[0m\n\u001b[1;33m    time.sleep(2)\u001b[0m\n\u001b[1;37m    ^\u001b[0m\n\u001b[1;31mIndentationError\u001b[0m\u001b[1;31m:\u001b[0m unindent does not match any outer indentation level\n"
     ]
    }
   ],
   "source": [
    "import time\n",
    "\n",
    "HOST = \"192.168.1.6\"\n",
    "PORT = 30002\n",
    "\n",
    "s = socket.socket(socket.AF_INET, socket.SOCK_STREAM)\n",
    "s.connect((HOST, PORT))\n",
    "\n",
    "counter = 0\n",
    "\n",
    "while counter < 1:\n",
    "    counter = counter + 1\n",
    "    s.send(\"\\x09\\x10\\x03\\xE8\\x00\\x03\\x06\\x00\\x00\\x00\\x00\\x00\\x00\\x73\\x30\".encode())\n",
    "#     data_raw = ser.readline()\n",
    "#     print(data_raw)\n",
    "#     data = binascii.hexlify(data_raw)\n",
    "#     print(\"Response 1 \", data)\n",
    "#     time.sleep(0.01)\n",
    "    s.send(\"\\x09\\x03\\x07\\xD0\\x00\\x01\\x85\\xCF\".encode())\n",
    "#     data_raw = ser.readline()\n",
    "#     print(data_raw)\n",
    "#     data = binascii.hexlify(data_raw)\n",
    "#     print(\"Response 2 \", data)\n",
    "    time.sleep(1)\n",
    "\n",
    "while True:\n",
    "#     print \"Close gripper\"\n",
    "    s.send(\"\\x09\\x10\\x03\\xE8\\x00\\x03\\x06\\x09\\x00\\x00\\xFF\\xFF\\xFF\\x42\\x29\".encode())\n",
    "#     data_raw = ser.readline()\n",
    "#     print(data_raw)\n",
    "#     data = binascii.hexlify(data_raw)\n",
    "#     print \"Response 3 \", data\n",
    "    time.sleep(2)\n",
    "\n",
    " \n",
    "#     print \"Open gripper\"\n",
    "    s.send(\"\\x09\\x10\\x03\\xE8\\x00\\x03\\x06\\x09\\x00\\x00\\x00\\xFF\\xFF\\x72\\x19\".encode())\n",
    "#     data_raw = ser.readline()\n",
    "#     print(data_raw)\n",
    "#     data = binascii.hexlify(data_raw)\n",
    "#     print \"Response 4 \", data\n",
    "\n",
    "    time.sleep(2)"
   ]
  },
  {
   "cell_type": "code",
   "execution_count": null,
   "metadata": {},
   "outputs": [],
   "source": []
  }
 ],
 "metadata": {
  "kernelspec": {
   "display_name": "Python 3",
   "language": "python",
   "name": "python3"
  },
  "language_info": {
   "codemirror_mode": {
    "name": "ipython",
    "version": 3
   },
   "file_extension": ".py",
   "mimetype": "text/x-python",
   "name": "python",
   "nbconvert_exporter": "python",
   "pygments_lexer": "ipython3",
   "version": "3.6.8"
  }
 },
 "nbformat": 4,
 "nbformat_minor": 2
}
