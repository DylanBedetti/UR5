{
 "cells": [
  {
   "cell_type": "code",
   "execution_count": null,
   "metadata": {},
   "outputs": [],
   "source": [
    "import urx\n",
    "\n",
    "rob = urx.Robot(\"192.168.1.6\")\n",
    "rob.set_tcp((0, 0, 0.1, 0, 0, 0))\n",
    "rob.set_payload(2, (0, 0, 0.1))\n",
    "sleep(0.2)  #leave some time to robot to process the setup commands\n",
    "rob.movej((1, 2, 3, 4, 5, 6), a, v)\n",
    "rob.movel((x, y, z, rx, ry, rz), a, v)\n",
    "print \"Current tool pose is: \",  rob.getl()\n",
    "rob.movel((0.1, 0, 0, 0, 0, 0), a, v, relative=true)  # move relative to current pose\n",
    "rob.translate((0.1, 0, 0), a, v)  #move tool and keep orientation\n",
    "rob.stopj(a)\n",
    "\n",
    "robot.movel(x, y, z, rx, ry, rz), wait=False)\n",
    "while True :\n",
    "    sleep(0.1)  #sleep first since the robot may not have processed the command yet\n",
    "    if robot.is_program_running():\n",
    "        break\n",
    "\n",
    "robot.movel(x, y, z, rx, ry, rz), wait=False)\n",
    "while.robot.getForce() < 50:\n",
    "    sleep(0.01)\n",
    "    if not robot.is_program_running():\n",
    "        break\n",
    "robot.stopl()\n",
    "\n",
    "try:\n",
    "    robot.movel((0,0,0.1,0,0,0), relative=True)\n",
    "except RobotError, ex:\n",
    "    print(\"Robot could not execute move (emergency stop for example), do something\", ex)"
   ]
  }
 ],
 "metadata": {
  "kernelspec": {
   "display_name": "Python 2",
   "language": "python",
   "name": "python2"
  },
  "language_info": {
   "codemirror_mode": {
    "name": "ipython",
    "version": 2
   },
   "file_extension": ".py",
   "mimetype": "text/x-python",
   "name": "python",
   "nbconvert_exporter": "python",
   "pygments_lexer": "ipython2",
   "version": "2.7.16"
  }
 },
 "nbformat": 4,
 "nbformat_minor": 2
}
