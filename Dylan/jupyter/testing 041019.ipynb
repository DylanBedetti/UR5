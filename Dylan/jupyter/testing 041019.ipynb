{
 "cells": [
  {
   "cell_type": "markdown",
   "metadata": {},
   "source": [
    "A pose is given as p[x,y,z,ax,ay,az], where x,y,z is the position of the TCP, and\n",
    "ax,ay,az is the orientation of the TCP, given in axis-angle notation\n",
    "\n",
    "Netgear 73\n",
    "\n",
    "Init position:\n",
    "X: 563.08\n",
    "Y: -42.5\n",
    "Z: 235.95\n",
    "\n",
    "RX: 2.564\n",
    "RY: -2.274\n",
    "YZ: 0.497"
   ]
  },
  {
   "cell_type": "code",
   "execution_count": 12,
   "metadata": {},
   "outputs": [
    {
     "name": "stdout",
     "output_type": "stream",
     "text": [
      "Connection Established...\n",
      "Beginning movement...\n"
     ]
    }
   ],
   "source": [
    "\"\"\"\n",
    "Move Test\n",
    "\n",
    "This program is responsible for testing whether the robot arm can be moved when requested\n",
    "to by our program.\n",
    "\"\"\"\n",
    "\n",
    "import socket\n",
    "import time\n",
    "\n",
    "#Specify what we want to connect to\n",
    "HOST = \"192.168.1.6\"\n",
    "PORT = 30002\n",
    "\n",
    "#Create a TCP/IP socket to send and receive information\n",
    "s = socket.socket(socket.AF_INET, socket.SOCK_STREAM)\n",
    "s.connect((HOST, PORT))\n",
    "\n",
    "#State a connection has been established\n",
    "print(\"Connection Established...\")\n",
    "time.sleep(2)\n",
    "print(\"Beginning movement...\")\n",
    "mess = \"movej(p[0.5, 0.3, 0.4, 2.22, -2.22, 0.00], a=1.0, v=0.1)\" + \"\\n\"\n",
    "# mess = \"movej(p[0.56308, -0.0425, 0.23595, 2.564, -2.274, 0.497], a=1.0, v=0.5)\" + \"\\n\"\n",
    "\n",
    "\n",
    "s.send(mess.encode())\n",
    "time.sleep(10)\n",
    "\n",
    "#Close the socket\n",
    "s.close()"
   ]
  },
  {
   "cell_type": "code",
   "execution_count": 85,
   "metadata": {},
   "outputs": [
    {
     "name": "stdout",
     "output_type": "stream",
     "text": [
      "Received b'\\x00\\x00\\x007\\x14\\xff\\xff\\xff\\xff\\xff\\xff\\xff\\xff\\xfe\\x03\\tURControl\\x03\\n\\x00\\x00\\x00\\x00\\x00\\x00\\x00\\x0021-06-2019, 10:02:57'\n"
     ]
    }
   ],
   "source": [
    "# Echo client program\n",
    "import socket\n",
    "HOST = \"192.168.1.6\" # The remote host\n",
    "PORT = 30002 # The same port as used by the server\n",
    "s = socket.socket(socket.AF_INET, socket.SOCK_STREAM)\n",
    "s.connect((HOST, PORT))\n",
    "s.send ((\"set_digital_out(2,False)\" + \"\\n\").encode())\n",
    "data = s.recv(1024)\n",
    "s.close()\n",
    "print (\"Received\", repr(data))"
   ]
  },
  {
   "cell_type": "code",
   "execution_count": 94,
   "metadata": {},
   "outputs": [
    {
     "name": "stdout",
     "output_type": "stream",
     "text": [
      "Starting Program\n",
      "Set output 1 and 2 high\n",
      "Robot starts Moving to 3 positions based on joint positions\n",
      "Robot starts Moving to 3 positions based on pose positions\n",
      "Set output 1 and 2 low\n",
      "The count is: 1\n",
      "Program finish\n",
      "Received b'\\x00\\x00\\x007\\x14\\xff\\xff\\xff\\xff\\xff\\xff\\xff\\xff\\xfe\\x03\\tURControl\\x03\\n\\x00\\x00\\x00\\x00\\x00\\x00\\x00\\x0021-06-2019, 10:02:57\\x00\\x00\\x00\\x18\\x14\\xff\\xff\\xff\\xff\\xff\\xff\\xff\\xff\\xfe\\x0c\\x00\\x00\\x01\\xf8\\x00\\x00\\x01\\x00\\x01\\x00\\x00\\x05H\\x10\\x00\\x00\\x00/\\x00\\x00\\x00\\x00\\x00aCj\\x00\\x01\\x01\\x01\\x00\\x00\\x00\\x00\\x07\\x00?\\xf0\\x00\\x00\\x00\\x00\\x00\\x00\\x00\\x00\\x00\\x00\\x00\\x00\\x00\\x00?\\xf0\\x00\\x00\\x00\\x00\\x00\\x00\\x00\\x00\\x00\\x00\\xfb\\x01\\xc0\\th\\xbb(\\x88Z0\\xc0\\th\\xbb(\\x88Z0\\x00\\x00\\x00\\x00\\x00\\x00\\x00\\x00\\xbd\\xc5l=B?\\x84\\x19A\\xf5\\xc2\\x8bB\\x00E\\x0c\\xfd\\xbf\\xfe\\xe1\\x7fQ\\x10\\xb4`\\xbf\\xfe\\xe1\\x98Q\\x10\\xb4`\\x00\\x00\\x00\\x00\\x00\\x00\\x00\\x00\\xbd\\xd7\\xc9\\xa8B@]/A\\xfa\\xcc\\xc8B\\x00u\\x98\\xfd?\\xf2\\xcb\\xe2\\x00\\x00\\x00\\x00?\\xf2\\xcb\\x8a\\x00\\x00\\x00\\x00\\x80\\x00\\x00\\x00\\x00\\x00\\x00\\x00\\xbf\\xb0\\xc3%B?\\x94{A\\xe5G\\xaaB\\x04\\x8du\\xfd\\xbf\\xf12\\xaf\\xd1\\x10\\xb4`\\xbf\\xf12\\xa3Q\\x10\\xb4`\\x00\\x00\\x00\\x00\\x00\\x00\\x00\\x00\\xbe\\x0c\\x8c<B@|\\xeeB\\x0eG\\xaaB\\x0e\\x03_\\xfd\\xbf\\xf9\\x1b\\x9eQ\\x10\\xb4`\\xbf\\xf9\\x1bk\\xd1\\x10\\xb4`\\x00\\x00\\x00\\x00\\x00\\x00\\x00\\x00\\xbd\\xa5\\x88\\xb9B?\\xe2NB\\x10\\xe1CB\\x10\\xacd\\xfd?\\xf3 \\xc6`\\x00\\x00\\x00?\\xf3 \\xec \\x00\\x00\\x00\\x00\\x00\\x00\\x00\\x00\\x00\\x00\\x00=\\xbe\\x855B?\\xc2\\x8fB\\x15\\xf5\\xbeB\\x13`\\x0b\\xfd\\x00\\x00\\x00e\\x04?\\xd0,\\x1f\\x14\\xb5\\xc3p?\\xba\\x04\\xd9>F\\xbc\\xb2?\\xe6n2\\x00\\xee\\xb1u\\xbf\\xdfd\\x99G\\xe5\\x86^@\\x06\\xc19\\x0f\\x11W\\xca\\xbf\\xb3\\xd5N \\x9d\\xbd\\x11\\x00\\x00\\x00\\x00\\x00\\x00\\x00\\x00\\x00\\x00\\x00\\x00\\x00\\x00\\x00\\x00\\x00\\x00\\x00\\x00\\x00\\x00\\x00\\x00\\x00\\x00\\x00\\x00\\x00\\x00\\x00\\x00\\x00\\x00\\x00\\x00\\x00\\x00\\x00\\x00\\x00\\x00\\x00\\x00\\x00\\x00\\x00\\x00\\x00\\x00\\x00\\xe1\\x05\\x07i\\xd4\\xdccg\\xd8t\\x94\\xf5\\x81\\xa7\\xa8\\xbf\\x8e/v\\xcf\\x18\\xccGp\\xce\\xd9\\xbe\\xf1\\xe5N\\xc0\\xa7\\xf2.?\\xf4\\xb1d\\x89P\\xed+\\xbf\\xca8O<4\\xcbh\\xbf\\xf1j(\\r\\xd1\\x88V?\\x02\\xe9\\xb3h5\\x0b\\xb8\\xbf\\x14\\\\\\xd0\\t/O\\x94?\\x18\\x1cw(\\x04>+\\xbf\\xbd\\xd4U\\x06s\\xd6\\x8c\\xbf\\xc7O\\x19\\xf8\\xea{\\xe7\\xbf\\x1b\\xabI\\xda:\\x14J?\\x06\\xd06fY\\x17\\x1a\\x00\\x00\\x00\\x00\\x00\\x00\\x00\\x00?\\xb6\\xe2P\\xbe\\xfd\\xed5@o\\xe6\\r6\\x8263\\xc0T\\xa8G\\xe0\\xb6I\\xce\\xc0e\\x8ea:\\x14\\xcc\\xef?\\xb8C\\xa1$\\x1d_\\x84?\\xb5\\'\\xb3\\xa3\\xa4\\xd2\\x19?\\xf9\\x1d\\x13B\\xfa\\x9e\\xef?ZC\\x8d^I\\xf0\\xc7?`\\x82\\x0bR3F\\x1e?\\xf9\\x1f\\xadd\\x12\\x11\\xe5\\xbf\\xf9\\x1f\\xfa=\\xfc+\\xa3\\x00\\x00\\x00\\x00\\x00\\x00\\x00\\x00\\x00\\x00\\x00\\x02\\x00\\x00\\x005\\t?\\xf3\\xd0\\x9c\\xc3\\'\\xc89?\\xff\\x16`DF\\x9f\\xf2@\\n\\xb5|o\\x97\\x03\\x01\\xbf\\xd8\\xe6t\\t/\\xd3\\xa4?\\xe8%\\xbe\\x0cGtX\\xbf\\xec}\\xfb\\x00\\xf7\\xdd\\x1b\\x00\\x00\\x00K\\x03\\x00\\x00\\x00\\x00\\x00\\x00\\x00\\x00\\x01\\x01?p\\x7f\\xc0\\x00\\x00\\x00\\x00?p\\x7f\\xc0\\x00\\x00\\x00\\x00\\x00\\x00?pbM\\xe0\\x00\\x00\\x00?pbM\\xe0\\x00\\x00\\x00A\\xe7\\x80\\x00BA@\\x03?7UD>\\x92\\xec \\x01\\x00\\x00\\x9aD\"\\xe2\\x00\\x00\\x01\\x00\\x00\\x00%\\x02\\x01\\x01?\\xa9\\xa8\\xc9\\xc0\\x00\\x00\\x00?\\xa9.c`\\x00\\x00\\x00C\\xe5[2\\x00;D\\x9b\\xa6B@\\x00\\x00\\xfd\\x00\\x00\\x01\\xbd\\x06\\xc0\\x19W\\x99(,/c@\\x19W\\x99(,/c\\xc0\\x19W\\x99(,/c@\\x19W\\x99(,/c\\xc0\\x19W\\x99(,/c@\\x19W\\x99(,/c\\xc0\\x19W\\x99(,/c@\\x19W\\x99(,/c\\xc0\\x19W\\x99(,/c@\\x19W\\x99(,/c\\xc0\\x19W\\x99(,/c@\\x19W\\x99(,/c@\\n\\xbb\\x94\\xed\\xdd\\xc6\\xb1@D\\x00\\x00\\x00\\x00\\x00\\x00@\\n\\xbb\\x94\\xed\\xdd\\xc6\\xb1@D\\x00\\x00\\x00\\x00\\x00\\x00@\\n\\xbb\\x94\\xed\\xdd\\xc6\\xb1@D\\x00\\x00\\x00\\x00\\x00\\x00@\\n'\n",
      "Status data received from robot\n"
     ]
    }
   ],
   "source": [
    "# Echo client program\n",
    "import socket\n",
    "import time\n",
    "\n",
    "t = 3\n",
    "v = 0.8\n",
    "\n",
    "HOST = \"192.168.1.6\" # The remote host\n",
    "PORT = 30002 # The same port as used by the server\n",
    "print(\"Starting Program\")\n",
    "count = 0\n",
    "while (count < 1):\n",
    "    s = socket.socket(socket.AF_INET, socket.SOCK_STREAM)\n",
    "    s.connect((HOST, PORT))\n",
    "    time.sleep(0.5)\n",
    "    print(\"Set output 1 and 2 high\")\n",
    "    s.send ((\"set_digital_out(1,True)\" + \"\\n\").encode())\n",
    "    time.sleep(0.1)\n",
    "\n",
    "    s.send ((\"set_digital_out(2,True)\" + \"\\n\").encode())\n",
    "    time.sleep(2)\n",
    "#     print(\"Robot starts Moving to 3 positions based on joint positions\")\n",
    "#     s.send ((f\"movej([-1.95, -1.58, 1.16, -1.15, -1.55, 1.18], a=1.0, v={v})\" + \"\\n\").encode())\n",
    "#     time.sleep(t)\n",
    "#     s.send ((f\"movej([-1.95, -1.66, 1.71, -1.62, -1.56, 1.19], a=1.0, v={v})\" + \"\\n\").encode())\n",
    "#     time.sleep(t)\n",
    "#     s.send ((f\"movej([-1.96, -1.53, 2.08, -2.12, -1.56, 1.19], a=1.0, v={v})\" + \"\\n\").encode())\n",
    "#     time.sleep(t)\n",
    "#     print(\"Robot starts Moving to 3 positions based on pose positions\")\n",
    "#     s.send ((f\"movej(p[0.00, 0.3, 0.4, 2.22, -2.22, 0.00], a=1.0, v={v})\" + \"\\n\").encode())\n",
    "#     time.sleep(t)\n",
    "#     s.send ((f\"movej(p[0.00, 0.3, 0.3, 2.22, -2.22, 0.00], a=1.0, v={v})\" + \"\\n\").encode())\n",
    "#     time.sleep(t)\n",
    "#     s.send ((f\"movej(p[0.00, 0.3, 0.2, 2.22, -2.22, 0.00], a=1.0, v={v})\" + \"\\n\").encode())\n",
    "#     time.sleep(t)\n",
    "    print(\"Set output 1 and 2 low\")\n",
    "    s.send ((\"set_digital_out(1,False)\" + \"\\n\").encode())\n",
    "    time.sleep(0.1)\n",
    "\n",
    "    s.send ((\"set_digital_out(2,False)\" + \"\\n\").encode())\n",
    "    time.sleep(0.1)\n",
    "    count = count + 1\n",
    "    print(\"The count is:\", count)\n",
    "    print(\"Program finish\")\n",
    "    time.sleep(1)\n",
    "    data = s.recv(1024)\n",
    "    s.close()\n",
    "    print (\"Received\", repr(data))\n",
    "print(\"Status data received from robot\")"
   ]
  },
  {
   "cell_type": "code",
   "execution_count": 95,
   "metadata": {},
   "outputs": [],
   "source": [
    "\"\"\"\n",
    "Move Test\n",
    "\n",
    "This program is responsible for testing whether the robot arm can be moved when requested\n",
    "to by our program.\n",
    "\"\"\"\n",
    "\n",
    "import socket\n",
    "import time\n",
    "import cv2\n",
    "import requests\n",
    "import shutil\n",
    "import time\n",
    "\n",
    "#Specify what we want to connect to\n",
    "HOST = \"192.168.1.6\"\n",
    "PORT = 30002\n",
    "\n",
    "#Create a TCP/IP socket to send and receive information\n",
    "#s = socket.socket(socket.AF_INET, socket.SOCK_STREAM)\n",
    "#s.connect((HOST, PORT))\n",
    "\n",
    "\n",
    "#f = open (\"gripper_tutorial2.script\", \"rb\")  #Robotiq FT sensor\n",
    "\n",
    "#l = f.read(1024)\n",
    "#while (l):\n",
    "#    s.send(l)\n",
    "#    l = f.read(1024)\n",
    "\n",
    "# This is the image url.\n",
    "image_url = \"http://192.168.1.6:4242/current.jpg?annotations=off\"\n",
    "# Open the url image, set stream to True, this will return the stream content.\n",
    "count = 0\n",
    "count1 = 0\n",
    "while(1):\n",
    "    resp = requests.get(image_url, stream=True)\n",
    "    # Open a local file with wb ( write binary ) permission.\n",
    "    local_file = open('local_image' + str(count) + '.jpg', 'wb')\n",
    "    # Set decode_content value to True, otherwise the downloaded image file's size will be zero.\n",
    "    resp.raw.decode_content = True\n",
    "    # Copy the response stream raw data to local image file.\n",
    "    shutil.copyfileobj(resp.raw, local_file)\n",
    "    # Remove the image url response object.\n",
    "    del resp\n",
    "\n",
    "    img = cv2.imread('local_image' + str(count) + '.jpg',cv2.COLOR_BGR2RGB)\n",
    "    cv2.imshow('image',img)\n",
    "    #count+=1\n",
    "    #if count == 10:\n",
    "    #    break\n",
    "    #cv2.waitKey(0)\n",
    "    if(cv2.waitKey(0)):\n",
    "        count1+=1\n",
    "        if(count1==5):\n",
    "            break\n",
    "cv2.destroyAllWindows()\n",
    "\n",
    "\n",
    "\n",
    "#s.close()\n"
   ]
  },
  {
   "cell_type": "code",
   "execution_count": null,
   "metadata": {},
   "outputs": [],
   "source": []
  },
  {
   "cell_type": "code",
   "execution_count": null,
   "metadata": {},
   "outputs": [],
   "source": []
  }
 ],
 "metadata": {
  "kernelspec": {
   "display_name": "Python 2",
   "language": "python",
   "name": "python2"
  },
  "language_info": {
   "codemirror_mode": {
    "name": "ipython",
    "version": 2
   },
   "file_extension": ".py",
   "mimetype": "text/x-python",
   "name": "python",
   "nbconvert_exporter": "python",
   "pygments_lexer": "ipython2",
   "version": "2.7.16"
  }
 },
 "nbformat": 4,
 "nbformat_minor": 2
}
