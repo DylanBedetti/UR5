{
 "cells": [
  {
   "cell_type": "markdown",
   "metadata": {},
   "source": [
    "('robot tcp is at pose: ', [0.4017144296025852, -0.15924001121388698, 0.48229247694639726, -1.2038025250294937, 1.034557663660989, -1.3910146812244248])\n",
    "\n",
    "Init position:\n",
    "X: 563.08\n",
    "Y: -42.5\n",
    "Z: 235.95\n",
    "\n",
    "RX: 2.564\n",
    "RY: -2.274\n",
    "YZ: 0.497\n",
    "\n",
    "z is off by 400mm (send 0 and you get -400mm)\n",
    "\n",
    "straight up = [0.04677, -0.11364, 0.602, 2.29, -2.2995, 2.4985]\n",
    "\n",
    "## Note the difference of Z and all of the R stuff\n",
    "\n",
    "### Tool Center Point (TCP)"
   ]
  },
  {
   "cell_type": "code",
   "execution_count": null,
   "metadata": {},
   "outputs": [],
   "source": []
  },
  {
   "cell_type": "code",
   "execution_count": null,
   "metadata": {},
   "outputs": [],
   "source": []
  }
 ],
 "metadata": {
  "kernelspec": {
   "display_name": "Python 2",
   "language": "python",
   "name": "python2"
  },
  "language_info": {
   "codemirror_mode": {
    "name": "ipython",
    "version": 2
   },
   "file_extension": ".py",
   "mimetype": "text/x-python",
   "name": "python",
   "nbconvert_exporter": "python",
   "pygments_lexer": "ipython2",
   "version": "2.7.16"
  }
 },
 "nbformat": 4,
 "nbformat_minor": 2
}
