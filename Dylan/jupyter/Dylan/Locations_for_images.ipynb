{
 "cells": [
  {
   "cell_type": "markdown",
   "metadata": {},
   "source": [
    "('robot tcp is at pose: ', [0.4017144296025852, -0.15924001121388698, 0.48229247694639726, -1.2038025250294937, 1.034557663660989, -1.3910146812244248])\n",
    "\n",
    "Init position:\n",
    "X: 563.08\n",
    "Y: -42.5\n",
    "Z: 235.95\n",
    "\n",
    "RX: 2.564\n",
    "RY: -2.274\n",
    "YZ: 0.497\n",
    "\n",
    "z is off by 400mm (send 0 and you get -400mm)\n",
    "\n",
    "straight up = [0.04677, -0.11364, 0.602, 2.29, -2.2995, 2.4985]\n",
    "\n",
    "## Note the difference of Z and all of the R stuff\n",
    "\n",
    "### Tool Center Point (TCP)"
   ]
  },
  {
   "cell_type": "code",
   "execution_count": 6,
   "metadata": {},
   "outputs": [
    {
     "name": "stderr",
     "output_type": "stream",
     "text": [
      "WARNING:ursecmon:tried 11 times to find a packet in data, advertised packet size: -2, type: 3\n",
      "WARNING:ursecmon:Data length: 68\n",
      "WARNING:ursecmon:tried 11 times to find a packet in data, advertised packet size: -2, type: 3\n",
      "WARNING:ursecmon:Data length: 1092\n",
      "WARNING:ursecmon:tried 11 times to find a packet in data, advertised packet size: -2, type: 3\n",
      "WARNING:ursecmon:Data length: 1420\n"
     ]
    },
    {
     "name": "stdout",
     "output_type": "stream",
     "text": [
      "('robot tcp is at pose: ', [-0.006451908742086232, -1.956332031880514, -0.4474142233477991, -1.8087604681598108, -4.750875894223348, 0.04980643838644028])\n"
     ]
    }
   ],
   "source": [
    "# Importing Libraries\n",
    "import urx\n",
    "import logging\n",
    "import time\n",
    "from urx.robotiq_two_finger_gripper import Robotiq_Two_Finger_Gripper\n",
    "\n",
    "# defining important variables\n",
    "a = 0.2\n",
    "v = 0.3\n",
    "\n",
    "# defining joint angles of important positions\n",
    "cam_init_pos = [-0.006403748189107716, -1.9564278761493128, -0.4473179022418421, -1.808915917073385, -4.750971380864279, 0.04987834393978119]\n",
    "bucket_pos = [1.6486937999725342, -2.4073990027057093, -1.8858941237079065, -0.36886865297426397, -4.742553655301229, 0.0471811443567276]\n",
    "hardcode_object_loc = [-0.024045769368306935, -1.8617809454547327, -1.511141602193014, -1.4511950651751917, -4.672266546879904, 0.047373268753290176]\n",
    "bucket_pick = [-0.04573041597475225, -1.8159015814410608, -1.2815788427936, -1.4384973684894007, -4.67054266134371, 0.04719312861561775]\n",
    "\n",
    "# logging\n",
    "logging.basicConfig(level=logging.WARN)\n",
    "\n",
    "# connecting to robot and initialising gripper\n",
    "rob = urx.Robot(\"192.168.1.6\")\n",
    "robotiqgrip = Robotiq_Two_Finger_Gripper(rob)\n",
    "\n",
    "# not sure what this does\n",
    "rob.set_tcp((0,0,0,0,0,0))\n",
    "rob.set_payload(0.5, (0,0,0))\n",
    "\n",
    "# initalise with gripper open\n",
    "robotiqgrip.open_gripper()\n",
    "\n",
    "# move to initial position\n",
    "#rob.movej(cam_init_pos, acc = a, vel = v)\n",
    "\n",
    "\n",
    "rob.movej(bucket_pick, acc = a, vel = v)\n",
    "#rob.movej(hardcode_object_loc, acc = a, vel = v)\n",
    "\n",
    "\n",
    "#robotiqgrip.close_gripper()#\n",
    "\n",
    "rob.movej(cam_init_pos, acc = a, vel = v)\n",
    "\n",
    "#rob.movej(bucket_pos, acc = a, vel = v)\n",
    "\n",
    "#robotiqgrip.open_gripper()\n",
    "\n",
    "\n",
    "\n",
    "pose = rob.getj()\n",
    "# pose = rob.get_pose()\n",
    "# pose = rob.get_orientation()\n",
    "print(\"robot tcp is at pose: \", pose)\n",
    "\n",
    "rob.close()"
   ]
  },
  {
   "cell_type": "code",
   "execution_count": null,
   "metadata": {},
   "outputs": [],
   "source": []
  },
  {
   "cell_type": "code",
   "execution_count": null,
   "metadata": {},
   "outputs": [],
   "source": []
  }
 ],
 "metadata": {
  "kernelspec": {
   "display_name": "Python 2",
   "language": "python",
   "name": "python2"
  },
  "language_info": {
   "codemirror_mode": {
    "name": "ipython",
    "version": 2
   },
   "file_extension": ".py",
   "mimetype": "text/x-python",
   "name": "python",
   "nbconvert_exporter": "python",
   "pygments_lexer": "ipython2",
   "version": "2.7.16"
  }
 },
 "nbformat": 4,
 "nbformat_minor": 2
}
