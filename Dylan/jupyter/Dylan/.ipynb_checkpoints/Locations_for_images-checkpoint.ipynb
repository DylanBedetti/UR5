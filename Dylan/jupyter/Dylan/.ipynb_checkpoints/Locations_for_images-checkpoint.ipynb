{
 "cells": [
  {
   "cell_type": "markdown",
   "metadata": {},
   "source": [
    "('robot tcp is at pose: ', [0.4017144296025852, -0.15924001121388698, 0.48229247694639726, -1.2038025250294937, 1.034557663660989, -1.3910146812244248])\n",
    "\n",
    "Init position:\n",
    "X: 563.08\n",
    "Y: -42.5\n",
    "Z: 235.95\n",
    "\n",
    "RX: 2.564\n",
    "RY: -2.274\n",
    "YZ: 0.497\n",
    "\n",
    "z is off by 400mm (send 0 and you get -400mm)\n",
    "\n",
    "straight up = [0.04677, -0.11364, 0.602, 2.29, -2.2995, 2.4985]"
   ]
  },
  {
   "cell_type": "code",
   "execution_count": 30,
   "metadata": {},
   "outputs": [
    {
     "name": "stderr",
     "output_type": "stream",
     "text": [
      "WARNING:ursecmon:tried 11 times to find a packet in data, advertised packet size: -2, type: 3\n",
      "WARNING:ursecmon:Data length: 68\n",
      "WARNING:ursecmon:tried 11 times to find a packet in data, advertised packet size: -2, type: 3\n",
      "WARNING:ursecmon:Data length: 1092\n",
      "WARNING:ursecmon:tried 11 times to find a packet in data, advertised packet size: -2, type: 3\n",
      "WARNING:ursecmon:Data length: 1420\n",
      "ERROR:ursecmon:Robot not running: {'isSecurityStopped': True, 'speedScaling': 0.0004628326759804998, 'isProgramPaused': False, 'timestamp': 5715680000L, 'isRealRobotEnabled': True, 'speedFractionLimit': '?', 'isRobotConnected': True, 'robotMode': 7, 'isProgramRunning': True, 'isPowerOnRobot': True, 'isEmergencyStopped': False, 'speedFraction': 1.0, 'type': 0, 'controlMode': 0, 'size': 47}\n",
      "ERROR:ursecmon:Robot not running: {'isSecurityStopped': True, 'speedScaling': 0.0004628326759804998, 'isProgramPaused': False, 'timestamp': 5715680000L, 'isRealRobotEnabled': True, 'speedFractionLimit': '?', 'isRobotConnected': True, 'robotMode': 7, 'isProgramRunning': True, 'isPowerOnRobot': True, 'isEmergencyStopped': False, 'speedFraction': 1.0, 'type': 0, 'controlMode': 0, 'size': 47}\n",
      "ERROR:ursecmon:Robot not running: {'isSecurityStopped': True, 'speedScaling': 0.0004628326759804998, 'isProgramPaused': False, 'timestamp': 5715680000L, 'isRealRobotEnabled': True, 'speedFractionLimit': '?', 'isRobotConnected': True, 'robotMode': 7, 'isProgramRunning': True, 'isPowerOnRobot': True, 'isEmergencyStopped': False, 'speedFraction': 1.0, 'type': 0, 'controlMode': 0, 'size': 47}\n",
      "ERROR:ursecmon:Robot not running: {'isSecurityStopped': True, 'speedScaling': 0.0004628326759804998, 'isProgramPaused': False, 'timestamp': 5715680000L, 'isRealRobotEnabled': True, 'speedFractionLimit': '?', 'isRobotConnected': True, 'robotMode': 7, 'isProgramRunning': True, 'isPowerOnRobot': True, 'isEmergencyStopped': False, 'speedFraction': 1.0, 'type': 0, 'controlMode': 0, 'size': 47}\n",
      "ERROR:ursecmon:Robot not running: {'isSecurityStopped': True, 'speedScaling': 0.0004628326759804998, 'isProgramPaused': False, 'timestamp': 5715680000L, 'isRealRobotEnabled': True, 'speedFractionLimit': '?', 'isRobotConnected': True, 'robotMode': 7, 'isProgramRunning': True, 'isPowerOnRobot': True, 'isEmergencyStopped': False, 'speedFraction': 1.0, 'type': 0, 'controlMode': 0, 'size': 47}\n",
      "ERROR:ursecmon:Robot not running: {'isSecurityStopped': True, 'speedScaling': 0.0004628326759804998, 'isProgramPaused': False, 'timestamp': 5715680000L, 'isRealRobotEnabled': True, 'speedFractionLimit': '?', 'isRobotConnected': True, 'robotMode': 7, 'isProgramRunning': True, 'isPowerOnRobot': True, 'isEmergencyStopped': False, 'speedFraction': 1.0, 'type': 0, 'controlMode': 0, 'size': 47}\n",
      "ERROR:ursecmon:Robot not running: {'isSecurityStopped': True, 'speedScaling': 0.0004628326759804998, 'isProgramPaused': False, 'timestamp': 5715680000L, 'isRealRobotEnabled': True, 'speedFractionLimit': '?', 'isRobotConnected': True, 'robotMode': 7, 'isProgramRunning': True, 'isPowerOnRobot': True, 'isEmergencyStopped': False, 'speedFraction': 1.0, 'type': 0, 'controlMode': 0, 'size': 47}\n",
      "ERROR:ursecmon:Robot not running: {'isSecurityStopped': True, 'speedScaling': 0.0004628326759804998, 'isProgramPaused': False, 'timestamp': 5715680000L, 'isRealRobotEnabled': True, 'speedFractionLimit': '?', 'isRobotConnected': True, 'robotMode': 7, 'isProgramRunning': True, 'isPowerOnRobot': True, 'isEmergencyStopped': False, 'speedFraction': 1.0, 'type': 0, 'controlMode': 0, 'size': 47}\n",
      "ERROR:ursecmon:Robot not running: {'isSecurityStopped': True, 'speedScaling': 0.0004628326759804998, 'isProgramPaused': False, 'timestamp': 5715680000L, 'isRealRobotEnabled': True, 'speedFractionLimit': '?', 'isRobotConnected': True, 'robotMode': 7, 'isProgramRunning': True, 'isPowerOnRobot': True, 'isEmergencyStopped': False, 'speedFraction': 1.0, 'type': 0, 'controlMode': 0, 'size': 47}\n",
      "ERROR:ursecmon:Robot not running: {'isSecurityStopped': True, 'speedScaling': 0.0004628326759804998, 'isProgramPaused': False, 'timestamp': 5715680000L, 'isRealRobotEnabled': True, 'speedFractionLimit': '?', 'isRobotConnected': True, 'robotMode': 7, 'isProgramRunning': True, 'isPowerOnRobot': True, 'isEmergencyStopped': False, 'speedFraction': 1.0, 'type': 0, 'controlMode': 0, 'size': 47}\n",
      "ERROR:ursecmon:Robot not running: {'isSecurityStopped': True, 'speedScaling': 0.0004628326759804998, 'isProgramPaused': False, 'timestamp': 5715680000L, 'isRealRobotEnabled': True, 'speedFractionLimit': '?', 'isRobotConnected': True, 'robotMode': 7, 'isProgramRunning': True, 'isPowerOnRobot': True, 'isEmergencyStopped': False, 'speedFraction': 1.0, 'type': 0, 'controlMode': 0, 'size': 47}\n"
     ]
    },
    {
     "ename": "RobotException",
     "evalue": "Robot stopped",
     "output_type": "error",
     "traceback": [
      "\u001b[1;31m---------------------------------------------------------------------------\u001b[0m",
      "\u001b[1;31mRobotException\u001b[0m                            Traceback (most recent call last)",
      "\u001b[1;32m<ipython-input-30-159fd3497c8e>\u001b[0m in \u001b[0;36m<module>\u001b[1;34m()\u001b[0m\n\u001b[0;32m     13\u001b[0m \u001b[1;33m\u001b[0m\u001b[0m\n\u001b[0;32m     14\u001b[0m \u001b[1;33m\u001b[0m\u001b[0m\n\u001b[1;32m---> 15\u001b[1;33m \u001b[0mrob\u001b[0m\u001b[1;33m.\u001b[0m\u001b[0mmovel\u001b[0m\u001b[1;33m(\u001b[0m\u001b[1;33m[\u001b[0m\u001b[1;36m0\u001b[0m\u001b[1;33m,\u001b[0m \u001b[1;36m0\u001b[0m\u001b[1;33m,\u001b[0m \u001b[1;36m0.835\u001b[0m\u001b[1;33m,\u001b[0m \u001b[1;36m2.564\u001b[0m\u001b[1;33m,\u001b[0m \u001b[1;33m-\u001b[0m\u001b[1;36m2.274\u001b[0m\u001b[1;33m,\u001b[0m \u001b[1;36m0.497\u001b[0m\u001b[1;33m]\u001b[0m\u001b[1;33m,\u001b[0m \u001b[0macc\u001b[0m\u001b[1;33m=\u001b[0m\u001b[0ma\u001b[0m\u001b[1;33m,\u001b[0m \u001b[0mvel\u001b[0m\u001b[1;33m=\u001b[0m\u001b[0mv\u001b[0m\u001b[1;33m)\u001b[0m\u001b[1;33m\u001b[0m\u001b[0m\n\u001b[0m\u001b[0;32m     16\u001b[0m \u001b[1;33m\u001b[0m\u001b[0m\n\u001b[0;32m     17\u001b[0m \u001b[1;31m# rob.movel([0.46308, -0.0425, 0.635, 2.564, -2.274, 0.497], acc=a, vel=v)\u001b[0m\u001b[1;33m\u001b[0m\u001b[1;33m\u001b[0m\u001b[0m\n",
      "\u001b[1;32mC:\\Users\\dylan\\Anaconda3\\envs\\p2\\lib\\site-packages\\urx-0.11.0-py2.7.egg\\urx\\urrobot.pyc\u001b[0m in \u001b[0;36mmovel\u001b[1;34m(self, tpose, acc, vel, wait, relative, threshold)\u001b[0m\n\u001b[0;32m    284\u001b[0m         \u001b[0mSend\u001b[0m \u001b[0ma\u001b[0m \u001b[0mmovel\u001b[0m \u001b[0mcommand\u001b[0m \u001b[0mto\u001b[0m \u001b[0mthe\u001b[0m \u001b[0mrobot\u001b[0m\u001b[1;33m.\u001b[0m \u001b[0mSee\u001b[0m \u001b[0mURScript\u001b[0m \u001b[0mdocumentation\u001b[0m\u001b[1;33m.\u001b[0m\u001b[1;33m\u001b[0m\u001b[0m\n\u001b[0;32m    285\u001b[0m         \"\"\"\n\u001b[1;32m--> 286\u001b[1;33m         \u001b[1;32mreturn\u001b[0m \u001b[0mself\u001b[0m\u001b[1;33m.\u001b[0m\u001b[0mmovex\u001b[0m\u001b[1;33m(\u001b[0m\u001b[1;34m\"movel\"\u001b[0m\u001b[1;33m,\u001b[0m \u001b[0mtpose\u001b[0m\u001b[1;33m,\u001b[0m \u001b[0macc\u001b[0m\u001b[1;33m=\u001b[0m\u001b[0macc\u001b[0m\u001b[1;33m,\u001b[0m \u001b[0mvel\u001b[0m\u001b[1;33m=\u001b[0m\u001b[0mvel\u001b[0m\u001b[1;33m,\u001b[0m \u001b[0mwait\u001b[0m\u001b[1;33m=\u001b[0m\u001b[0mwait\u001b[0m\u001b[1;33m,\u001b[0m \u001b[0mrelative\u001b[0m\u001b[1;33m=\u001b[0m\u001b[0mrelative\u001b[0m\u001b[1;33m,\u001b[0m \u001b[0mthreshold\u001b[0m\u001b[1;33m=\u001b[0m\u001b[0mthreshold\u001b[0m\u001b[1;33m)\u001b[0m\u001b[1;33m\u001b[0m\u001b[0m\n\u001b[0m\u001b[0;32m    287\u001b[0m \u001b[1;33m\u001b[0m\u001b[0m\n\u001b[0;32m    288\u001b[0m     \u001b[1;32mdef\u001b[0m \u001b[0mmovep\u001b[0m\u001b[1;33m(\u001b[0m\u001b[0mself\u001b[0m\u001b[1;33m,\u001b[0m \u001b[0mtpose\u001b[0m\u001b[1;33m,\u001b[0m \u001b[0macc\u001b[0m\u001b[1;33m=\u001b[0m\u001b[1;36m0.01\u001b[0m\u001b[1;33m,\u001b[0m \u001b[0mvel\u001b[0m\u001b[1;33m=\u001b[0m\u001b[1;36m0.01\u001b[0m\u001b[1;33m,\u001b[0m \u001b[0mwait\u001b[0m\u001b[1;33m=\u001b[0m\u001b[0mTrue\u001b[0m\u001b[1;33m,\u001b[0m \u001b[0mrelative\u001b[0m\u001b[1;33m=\u001b[0m\u001b[0mFalse\u001b[0m\u001b[1;33m,\u001b[0m \u001b[0mthreshold\u001b[0m\u001b[1;33m=\u001b[0m\u001b[0mNone\u001b[0m\u001b[1;33m)\u001b[0m\u001b[1;33m:\u001b[0m\u001b[1;33m\u001b[0m\u001b[0m\n",
      "\u001b[1;32mC:\\Users\\dylan\\Anaconda3\\envs\\p2\\lib\\site-packages\\urx-0.11.0-py2.7.egg\\urx\\robot.pyc\u001b[0m in \u001b[0;36mmovex\u001b[1;34m(self, command, pose, acc, vel, wait, relative, threshold)\u001b[0m\n\u001b[0;32m    178\u001b[0m             \u001b[1;32mreturn\u001b[0m \u001b[0mself\u001b[0m\u001b[1;33m.\u001b[0m\u001b[0madd_pose_base\u001b[0m\u001b[1;33m(\u001b[0m\u001b[0mt\u001b[0m\u001b[1;33m,\u001b[0m \u001b[0macc\u001b[0m\u001b[1;33m,\u001b[0m \u001b[0mvel\u001b[0m\u001b[1;33m,\u001b[0m \u001b[0mwait\u001b[0m\u001b[1;33m=\u001b[0m\u001b[0mwait\u001b[0m\u001b[1;33m,\u001b[0m \u001b[0mcommand\u001b[0m\u001b[1;33m=\u001b[0m\u001b[0mcommand\u001b[0m\u001b[1;33m,\u001b[0m \u001b[0mthreshold\u001b[0m\u001b[1;33m=\u001b[0m\u001b[0mthreshold\u001b[0m\u001b[1;33m)\u001b[0m\u001b[1;33m\u001b[0m\u001b[0m\n\u001b[0;32m    179\u001b[0m         \u001b[1;32melse\u001b[0m\u001b[1;33m:\u001b[0m\u001b[1;33m\u001b[0m\u001b[0m\n\u001b[1;32m--> 180\u001b[1;33m             \u001b[1;32mreturn\u001b[0m \u001b[0mself\u001b[0m\u001b[1;33m.\u001b[0m\u001b[0mset_pose\u001b[0m\u001b[1;33m(\u001b[0m\u001b[0mt\u001b[0m\u001b[1;33m,\u001b[0m \u001b[0macc\u001b[0m\u001b[1;33m,\u001b[0m \u001b[0mvel\u001b[0m\u001b[1;33m,\u001b[0m \u001b[0mwait\u001b[0m\u001b[1;33m=\u001b[0m\u001b[0mwait\u001b[0m\u001b[1;33m,\u001b[0m \u001b[0mcommand\u001b[0m\u001b[1;33m=\u001b[0m\u001b[0mcommand\u001b[0m\u001b[1;33m,\u001b[0m \u001b[0mthreshold\u001b[0m\u001b[1;33m=\u001b[0m\u001b[0mthreshold\u001b[0m\u001b[1;33m)\u001b[0m\u001b[1;33m\u001b[0m\u001b[0m\n\u001b[0m\u001b[0;32m    181\u001b[0m \u001b[1;33m\u001b[0m\u001b[0m\n\u001b[0;32m    182\u001b[0m     \u001b[1;32mdef\u001b[0m \u001b[0mmovexs\u001b[0m\u001b[1;33m(\u001b[0m\u001b[0mself\u001b[0m\u001b[1;33m,\u001b[0m \u001b[0mcommand\u001b[0m\u001b[1;33m,\u001b[0m \u001b[0mpose_list\u001b[0m\u001b[1;33m,\u001b[0m \u001b[0macc\u001b[0m\u001b[1;33m=\u001b[0m\u001b[1;36m0.01\u001b[0m\u001b[1;33m,\u001b[0m \u001b[0mvel\u001b[0m\u001b[1;33m=\u001b[0m\u001b[1;36m0.01\u001b[0m\u001b[1;33m,\u001b[0m \u001b[0mradius\u001b[0m\u001b[1;33m=\u001b[0m\u001b[1;36m0.01\u001b[0m\u001b[1;33m,\u001b[0m \u001b[0mwait\u001b[0m\u001b[1;33m=\u001b[0m\u001b[0mTrue\u001b[0m\u001b[1;33m,\u001b[0m \u001b[0mthreshold\u001b[0m\u001b[1;33m=\u001b[0m\u001b[0mNone\u001b[0m\u001b[1;33m)\u001b[0m\u001b[1;33m:\u001b[0m\u001b[1;33m\u001b[0m\u001b[0m\n",
      "\u001b[1;32mC:\\Users\\dylan\\Anaconda3\\envs\\p2\\lib\\site-packages\\urx-0.11.0-py2.7.egg\\urx\\robot.pyc\u001b[0m in \u001b[0;36mset_pose\u001b[1;34m(self, trans, acc, vel, wait, command, threshold)\u001b[0m\n\u001b[0;32m    103\u001b[0m         \u001b[0mself\u001b[0m\u001b[1;33m.\u001b[0m\u001b[0mlogger\u001b[0m\u001b[1;33m.\u001b[0m\u001b[0mdebug\u001b[0m\u001b[1;33m(\u001b[0m\u001b[1;34m\"Setting pose to %s\"\u001b[0m\u001b[1;33m,\u001b[0m \u001b[0mtrans\u001b[0m\u001b[1;33m.\u001b[0m\u001b[0mpose_vector\u001b[0m\u001b[1;33m)\u001b[0m\u001b[1;33m\u001b[0m\u001b[0m\n\u001b[0;32m    104\u001b[0m         \u001b[0mt\u001b[0m \u001b[1;33m=\u001b[0m \u001b[0mself\u001b[0m\u001b[1;33m.\u001b[0m\u001b[0mcsys\u001b[0m \u001b[1;33m*\u001b[0m \u001b[0mtrans\u001b[0m\u001b[1;33m\u001b[0m\u001b[0m\n\u001b[1;32m--> 105\u001b[1;33m         \u001b[0mpose\u001b[0m \u001b[1;33m=\u001b[0m \u001b[0mURRobot\u001b[0m\u001b[1;33m.\u001b[0m\u001b[0mmovex\u001b[0m\u001b[1;33m(\u001b[0m\u001b[0mself\u001b[0m\u001b[1;33m,\u001b[0m \u001b[0mcommand\u001b[0m\u001b[1;33m,\u001b[0m \u001b[0mt\u001b[0m\u001b[1;33m.\u001b[0m\u001b[0mpose_vector\u001b[0m\u001b[1;33m,\u001b[0m \u001b[0macc\u001b[0m\u001b[1;33m=\u001b[0m\u001b[0macc\u001b[0m\u001b[1;33m,\u001b[0m \u001b[0mvel\u001b[0m\u001b[1;33m=\u001b[0m\u001b[0mvel\u001b[0m\u001b[1;33m,\u001b[0m \u001b[0mwait\u001b[0m\u001b[1;33m=\u001b[0m\u001b[0mwait\u001b[0m\u001b[1;33m,\u001b[0m \u001b[0mthreshold\u001b[0m\u001b[1;33m=\u001b[0m\u001b[0mthreshold\u001b[0m\u001b[1;33m)\u001b[0m\u001b[1;33m\u001b[0m\u001b[0m\n\u001b[0m\u001b[0;32m    106\u001b[0m         \u001b[1;32mif\u001b[0m \u001b[0mpose\u001b[0m \u001b[1;32mis\u001b[0m \u001b[1;32mnot\u001b[0m \u001b[0mNone\u001b[0m\u001b[1;33m:\u001b[0m\u001b[1;33m\u001b[0m\u001b[0m\n\u001b[0;32m    107\u001b[0m             \u001b[1;32mreturn\u001b[0m \u001b[0mself\u001b[0m\u001b[1;33m.\u001b[0m\u001b[0mcsys\u001b[0m\u001b[1;33m.\u001b[0m\u001b[0minverse\u001b[0m \u001b[1;33m*\u001b[0m \u001b[0mm3d\u001b[0m\u001b[1;33m.\u001b[0m\u001b[0mTransform\u001b[0m\u001b[1;33m(\u001b[0m\u001b[0mpose\u001b[0m\u001b[1;33m)\u001b[0m\u001b[1;33m\u001b[0m\u001b[0m\n",
      "\u001b[1;32mC:\\Users\\dylan\\Anaconda3\\envs\\p2\\lib\\site-packages\\urx-0.11.0-py2.7.egg\\urx\\urrobot.pyc\u001b[0m in \u001b[0;36mmovex\u001b[1;34m(self, command, tpose, acc, vel, wait, relative, threshold)\u001b[0m\n\u001b[0;32m    316\u001b[0m         \u001b[0mself\u001b[0m\u001b[1;33m.\u001b[0m\u001b[0msend_program\u001b[0m\u001b[1;33m(\u001b[0m\u001b[0mprog\u001b[0m\u001b[1;33m)\u001b[0m\u001b[1;33m\u001b[0m\u001b[0m\n\u001b[0;32m    317\u001b[0m         \u001b[1;32mif\u001b[0m \u001b[0mwait\u001b[0m\u001b[1;33m:\u001b[0m\u001b[1;33m\u001b[0m\u001b[0m\n\u001b[1;32m--> 318\u001b[1;33m             \u001b[0mself\u001b[0m\u001b[1;33m.\u001b[0m\u001b[0m_wait_for_move\u001b[0m\u001b[1;33m(\u001b[0m\u001b[0mtpose\u001b[0m\u001b[1;33m[\u001b[0m\u001b[1;33m:\u001b[0m\u001b[1;36m6\u001b[0m\u001b[1;33m]\u001b[0m\u001b[1;33m,\u001b[0m \u001b[0mthreshold\u001b[0m\u001b[1;33m=\u001b[0m\u001b[0mthreshold\u001b[0m\u001b[1;33m)\u001b[0m\u001b[1;33m\u001b[0m\u001b[0m\n\u001b[0m\u001b[0;32m    319\u001b[0m             \u001b[1;32mreturn\u001b[0m \u001b[0mself\u001b[0m\u001b[1;33m.\u001b[0m\u001b[0mgetl\u001b[0m\u001b[1;33m(\u001b[0m\u001b[1;33m)\u001b[0m\u001b[1;33m\u001b[0m\u001b[0m\n\u001b[0;32m    320\u001b[0m \u001b[1;33m\u001b[0m\u001b[0m\n",
      "\u001b[1;32mC:\\Users\\dylan\\Anaconda3\\envs\\p2\\lib\\site-packages\\urx-0.11.0-py2.7.egg\\urx\\urrobot.pyc\u001b[0m in \u001b[0;36m_wait_for_move\u001b[1;34m(self, target, threshold, timeout, joints)\u001b[0m\n\u001b[0;32m    217\u001b[0m         \u001b[1;32mwhile\u001b[0m \u001b[0mTrue\u001b[0m\u001b[1;33m:\u001b[0m\u001b[1;33m\u001b[0m\u001b[0m\n\u001b[0;32m    218\u001b[0m             \u001b[1;32mif\u001b[0m \u001b[1;32mnot\u001b[0m \u001b[0mself\u001b[0m\u001b[1;33m.\u001b[0m\u001b[0mis_running\u001b[0m\u001b[1;33m(\u001b[0m\u001b[1;33m)\u001b[0m\u001b[1;33m:\u001b[0m\u001b[1;33m\u001b[0m\u001b[0m\n\u001b[1;32m--> 219\u001b[1;33m                 \u001b[1;32mraise\u001b[0m \u001b[0mRobotException\u001b[0m\u001b[1;33m(\u001b[0m\u001b[1;34m\"Robot stopped\"\u001b[0m\u001b[1;33m)\u001b[0m\u001b[1;33m\u001b[0m\u001b[0m\n\u001b[0m\u001b[0;32m    220\u001b[0m             \u001b[0mdist\u001b[0m \u001b[1;33m=\u001b[0m \u001b[0mself\u001b[0m\u001b[1;33m.\u001b[0m\u001b[0m_get_dist\u001b[0m\u001b[1;33m(\u001b[0m\u001b[0mtarget\u001b[0m\u001b[1;33m,\u001b[0m \u001b[0mjoints\u001b[0m\u001b[1;33m)\u001b[0m\u001b[1;33m\u001b[0m\u001b[0m\n\u001b[0;32m    221\u001b[0m             \u001b[0mself\u001b[0m\u001b[1;33m.\u001b[0m\u001b[0mlogger\u001b[0m\u001b[1;33m.\u001b[0m\u001b[0mdebug\u001b[0m\u001b[1;33m(\u001b[0m\u001b[1;34m\"distance to target is: %s, target dist is %s\"\u001b[0m\u001b[1;33m,\u001b[0m \u001b[0mdist\u001b[0m\u001b[1;33m,\u001b[0m \u001b[0mthreshold\u001b[0m\u001b[1;33m)\u001b[0m\u001b[1;33m\u001b[0m\u001b[0m\n",
      "\u001b[1;31mRobotException\u001b[0m: Robot stopped"
     ]
    }
   ],
   "source": [
    "import urx\n",
    "import logging\n",
    "import time\n",
    "\n",
    "a = 0.2\n",
    "v = 0.1\n",
    "\n",
    "logging.basicConfig(level=logging.WARN)\n",
    "\n",
    "rob = urx.Robot(\"192.168.1.6\")\n",
    "# rob.set_tcp((0,0,0,0,0,0))\n",
    "# rob.set_payload(0.5, (0,0,0))\n",
    "\n",
    "\n",
    "rob.movel([0.04677, -0.11364, 0.602, 2.29, -2.2995, 2.4985], acc=a, vel=v)\n",
    "\n",
    "# rob.movel([0.46308, -0.0425, 0.635, 2.564, -2.274, 0.497], acc=a, vel=v)\n",
    "\n",
    "# time.sleep(1)\n",
    "\n",
    "# rob.movel([0.66308, -0.0425, 0.635, 2.564, -2.274, 0.497], acc=a, vel=v)\n",
    "\n",
    "pose = rob.getl()\n",
    "print(\"robot tcp is at pose: \", pose)\n",
    "\n",
    "rob.close()"
   ]
  },
  {
   "cell_type": "code",
   "execution_count": null,
   "metadata": {},
   "outputs": [],
   "source": []
  },
  {
   "cell_type": "code",
   "execution_count": null,
   "metadata": {},
   "outputs": [],
   "source": []
  }
 ],
 "metadata": {
  "kernelspec": {
   "display_name": "Python 2",
   "language": "python",
   "name": "python2"
  },
  "language_info": {
   "codemirror_mode": {
    "name": "ipython",
    "version": 2
   },
   "file_extension": ".py",
   "mimetype": "text/x-python",
   "name": "python",
   "nbconvert_exporter": "python",
   "pygments_lexer": "ipython2",
   "version": "2.7.16"
  }
 },
 "nbformat": 4,
 "nbformat_minor": 2
}
