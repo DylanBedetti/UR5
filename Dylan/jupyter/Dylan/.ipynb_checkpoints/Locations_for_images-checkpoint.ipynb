{
 "cells": [
  {
   "cell_type": "markdown",
   "metadata": {},
   "source": [
    "('robot tcp is at pose: ', [0.4017144296025852, -0.15924001121388698, 0.48229247694639726, -1.2038025250294937, 1.034557663660989, -1.3910146812244248])\n",
    "\n",
    "Init position:\n",
    "X: 563.08\n",
    "Y: -42.5\n",
    "Z: 235.95\n",
    "\n",
    "RX: 2.564\n",
    "RY: -2.274\n",
    "YZ: 0.497\n",
    "\n",
    "z is off by 400mm (send 0 and you get -400mm)\n",
    "\n",
    "straight up = [0.04677, -0.11364, 0.602, 2.29, -2.2995, 2.4985]\n",
    "\n",
    "## Note the difference of Z and all of the R stuff"
   ]
  },
  {
   "cell_type": "code",
   "execution_count": 45,
   "metadata": {},
   "outputs": [
    {
     "name": "stderr",
     "output_type": "stream",
     "text": [
      "WARNING:ursecmon:tried 11 times to find a packet in data, advertised packet size: -2, type: 3\n",
      "WARNING:ursecmon:Data length: 68\n",
      "WARNING:ursecmon:tried 11 times to find a packet in data, advertised packet size: -2, type: 3\n",
      "WARNING:ursecmon:Data length: 1092\n",
      "WARNING:ursecmon:tried 11 times to find a packet in data, advertised packet size: -2, type: 3\n",
      "WARNING:ursecmon:Data length: 1420\n"
     ]
    },
    {
     "name": "stdout",
     "output_type": "stream",
     "text": [
      "('robot tcp is at pose: ', [-0.13320154357371572, -0.10694640001635003, 0.7674670868090115, -1.1959015974363592, 1.5061212479407005, -1.5841361095602966])\n"
     ]
    }
   ],
   "source": [
    "import urx\n",
    "import logging\n",
    "import time\n",
    "\n",
    "a = 0.2\n",
    "v = 0.1\n",
    "\n",
    "logging.basicConfig(level=logging.WARN)\n",
    "\n",
    "rob = urx.Robot(\"192.168.1.6\")\n",
    "rob.set_tcp((0,0,0,0,0,0))\n",
    "rob.set_payload(0.5, (0,0,0))\n",
    "\n",
    "# rob.movel([-0.13321, -0.10694, 0.76746, 1.82, -2.292, 2.4107], acc=a, vel=v)\n",
    "\n",
    "# rob.movel([0.04677, -0.11364, 0.802, 2.29, -2.2995, 2.4985], acc=a, vel=v)\n",
    "\n",
    "# rob.movel([0.46308, -0.0425, 0.635, 2.564, -2.274, 0.497], acc=a, vel=v)\n",
    "\n",
    "# time.sleep(1)\n",
    "\n",
    "# rob.movel([0.66308, -0.0425, 0.635, 2.564, -2.274, 0.497], acc=a, vel=v)\n",
    "\n",
    "# pose = rob.getl()\n",
    "pose = rob.get_orientation()\n",
    "print(\"robot tcp is at pose: \", pose)\n",
    "\n",
    "rob.close()"
   ]
  },
  {
   "cell_type": "code",
   "execution_count": null,
   "metadata": {},
   "outputs": [],
   "source": []
  },
  {
   "cell_type": "code",
   "execution_count": null,
   "metadata": {},
   "outputs": [],
   "source": []
  }
 ],
 "metadata": {
  "kernelspec": {
   "display_name": "Python 2",
   "language": "python",
   "name": "python2"
  },
  "language_info": {
   "codemirror_mode": {
    "name": "ipython",
    "version": 2
   },
   "file_extension": ".py",
   "mimetype": "text/x-python",
   "name": "python",
   "nbconvert_exporter": "python",
   "pygments_lexer": "ipython2",
   "version": "2.7.16"
  }
 },
 "nbformat": 4,
 "nbformat_minor": 2
}
