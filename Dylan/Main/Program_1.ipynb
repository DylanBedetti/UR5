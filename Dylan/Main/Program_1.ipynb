{
 "cells": [
  {
   "cell_type": "code",
   "execution_count": 54,
   "metadata": {},
   "outputs": [
    {
     "data": {
      "text/plain": [
       "<logging.RootLogger at 0x2cca5f8>"
      ]
     },
     "execution_count": 54,
     "metadata": {},
     "output_type": "execute_result"
    }
   ],
   "source": [
    "# Import all libraries!\n",
    "import cv2\n",
    "import glob\n",
    "import matplotlib.pyplot as plt\n",
    "import numpy as np\n",
    "import requests\n",
    "import shutil\n",
    "import time\n",
    "from urx.robotiq_two_finger_gripper import Robotiq_Two_Finger_Gripper\n",
    "import logging\n",
    "import urx\n",
    "\n",
    "\n",
    "logging.basicConfig(level=logging.CRITICAL)\n",
    "# HOW TO REMOVE LOGGING MESSAGES!!!?\n"
   ]
  },
  {
   "cell_type": "code",
   "execution_count": 56,
   "metadata": {
    "scrolled": true
   },
   "outputs": [
    {
     "name": "stderr",
     "output_type": "stream",
     "text": [
      "WARNING:ursecmon:tried 11 times to find a packet in data, advertised packet size: -2, type: 3\n",
      "WARNING:ursecmon:Data length: 68\n",
      "WARNING:ursecmon:tried 11 times to find a packet in data, advertised packet size: -2, type: 3\n",
      "WARNING:ursecmon:Data length: 1092\n",
      "WARNING:ursecmon:tried 11 times to find a packet in data, advertised packet size: -2, type: 3\n",
      "WARNING:ursecmon:Data length: 1420\n"
     ]
    },
    {
     "name": "stdout",
     "output_type": "stream",
     "text": [
      "Please enter the number of bins you have: 3\n",
      "Press color of bin when complete: red\n",
      "Press color of bin when complete: green\n",
      "Press color of bin when complete: blue\n",
      "Completed all bins!\n"
     ]
    }
   ],
   "source": [
    "rob = rob_connect()\n",
    "\n",
    "a = 0.5; v = 1\n",
    "\n",
    "\n",
    "\n",
    "info = teach_bins(rob)\n",
    "# rotate_to_shape(rob)\n",
    "\n",
    "# move_over_object(rob, 0, 121)\n",
    "\n",
    "rob.close()"
   ]
  },
  {
   "cell_type": "code",
   "execution_count": 57,
   "metadata": {},
   "outputs": [
    {
     "data": {
      "text/plain": [
       "[['red', 'green', 'blue'],\n",
       " [[0.8771262168884277,\n",
       "   -2.0213030020343226,\n",
       "   -1.4906061331378382,\n",
       "   -1.2683027426349085,\n",
       "   -4.42512029806246,\n",
       "   0.04676169902086258],\n",
       "  [0.4146837890148163,\n",
       "   -2.2203643957721155,\n",
       "   -1.1402199904071253,\n",
       "   -1.2519210020648401,\n",
       "   -4.418092672024862,\n",
       "   0.04676169902086258],\n",
       "  [0.41464781761169434,\n",
       "   -2.220388714467184,\n",
       "   -1.1402562300311487,\n",
       "   -1.2519210020648401,\n",
       "   -4.418092672024862,\n",
       "   0.04682162031531334]]]"
      ]
     },
     "execution_count": 57,
     "metadata": {},
     "output_type": "execute_result"
    }
   ],
   "source": [
    "info"
   ]
  },
  {
   "cell_type": "code",
   "execution_count": 58,
   "metadata": {
    "scrolled": true
   },
   "outputs": [
    {
     "name": "stderr",
     "output_type": "stream",
     "text": [
      "WARNING:ursecmon:tried 11 times to find a packet in data, advertised packet size: -2, type: 3\n",
      "WARNING:ursecmon:Data length: 68\n",
      "WARNING:ursecmon:tried 11 times to find a packet in data, advertised packet size: -2, type: 3\n",
      "WARNING:ursecmon:Data length: 1092\n",
      "WARNING:ursecmon:tried 11 times to find a packet in data, advertised packet size: -2, type: 3\n",
      "WARNING:ursecmon:Data length: 1420\n"
     ]
    },
    {
     "name": "stdout",
     "output_type": "stream",
     "text": [
      "('robot tcp is at pose: ', [-0.12148648897279912, -2.019707981740133, -0.9036753813373011, -1.245638672505514, -4.750899855290548, 0.0508614256978035])\n"
     ]
    }
   ],
   "source": [
    "## get robot back into init pos\n",
    "test_robot(a = 1, v = 1)\n"
   ]
  },
  {
   "cell_type": "code",
   "execution_count": 43,
   "metadata": {},
   "outputs": [],
   "source": [
    "def move_over_object(rob, x_diff, y_diff):\n",
    "    '''\n",
    "    Function to move over identified object\n",
    "    '''\n",
    "#     factor = 3025.0\n",
    "    factor = 2500\n",
    "    \n",
    "    x_diff = float(x_diff)/factor\n",
    "    y_diff = float(y_diff)/factor\n",
    "    \n",
    "    print(x_diff, y_diff)\n",
    "    \n",
    "    rob.translate((-y_diff, -x_diff, 0), acc=a, vel=v)\n",
    "    "
   ]
  },
  {
   "cell_type": "code",
   "execution_count": 55,
   "metadata": {},
   "outputs": [],
   "source": [
    "def teach_bins(rob):\n",
    "    '''\n",
    "    Allows user to move robot to placement of bins\n",
    "    Also need to allow user to take photo of object!??\n",
    "    '''\n",
    "    colours = []\n",
    "    bins = []\n",
    "    n_bins = int(raw_input(\"Please enter the number of bins you have: \"))\n",
    "    for i in range(n_bins):\n",
    "        rob.set_freedrive(1, timeout=60)\n",
    "        colours.append(raw_input(\"Press color of bin when complete: \"))\n",
    "        bins.append(rob.getj())\n",
    "        \n",
    "    print(\"Completed all bins!\")\n",
    "    return [colours, bins]"
   ]
  },
  {
   "cell_type": "code",
   "execution_count": 4,
   "metadata": {},
   "outputs": [],
   "source": [
    "def rotate_to_shape(rob):\n",
    "    '''\n",
    "    rotate robot gripper to face objects below\n",
    "    '''\n",
    "    pose = rob.getj()\n",
    "    pose[3] = pose[3] - 0.57\n",
    "    rob.movej(pose, acc = a, vel = v)"
   ]
  },
  {
   "cell_type": "code",
   "execution_count": 5,
   "metadata": {},
   "outputs": [],
   "source": [
    "def get_image():\n",
    "    '''\n",
    "    Recieve latest image and save it in a folder\n",
    "    '''\n",
    "    \n",
    "    image_url = \"http://192.168.1.6:4242/current.jpg?annotations=off\"\n",
    "    \n",
    "    resp = requests.get(image_url, stream=True)\n",
    "    # Open a local file with wb ( write binary ) permission.\n",
    "    img_string = 'images/latest_image.jpg'\n",
    "    local_file = open(img_string, 'wb')\n",
    "    # Set decode_content value to True, otherwise the downloaded image file's size will be zero.\n",
    "    resp.raw.decode_content = True\n",
    "    # Copy the response stream raw data to local image file.\n",
    "    shutil.copyfileobj(resp.raw, local_file)\n",
    "    # Remove the image url response object.\n",
    "    del resp"
   ]
  },
  {
   "cell_type": "code",
   "execution_count": 6,
   "metadata": {},
   "outputs": [],
   "source": [
    "def detect_photos(colour):\n",
    "    '''\n",
    "    Read in latest image and detect blobs of the given colour\n",
    "    return the distance to the top left blob in form [X_from_center, Y_from_center] else returns None\n",
    "    '''\n",
    "\n",
    "    files = glob.glob(\"Images/*\")[:10] # CHANGE THIS!\n",
    "\n",
    "    # two ranges because red stretchs over the Hue colour range\n",
    "    \n",
    "    ##RED\n",
    "    lower_red_1 = (0,100,50)\n",
    "    upper_red_1 = (5,255,255)\n",
    "\n",
    "    lower_red_2 = (170,100,50)\n",
    "    upper_red_2 = (180,255,255)\n",
    "    \n",
    "    ##GREEN\n",
    "    lower_green = (45, 100, 50)\n",
    "    upper_green = (65, 255, 255)\n",
    "    \n",
    "    ##YELLOW\n",
    "    lower_yellow = (20, 100, 50)\n",
    "    upper_yellow = (45, 255, 255)\n",
    "\n",
    "\n",
    "    for f in files:\n",
    "        # reading in image to RGB and HSV\n",
    "        img_RGB = cv2.cvtColor(cv2.imread(f), cv2.COLOR_BGR2RGB)\n",
    "        img_HSV = cv2.cvtColor(img_RGB, cv2.COLOR_RGB2HSV)\n",
    "        \n",
    "        if colour == 'red':\n",
    "\n",
    "            # Create two masks\n",
    "            mask1 = cv2.inRange(img_HSV, lower_red_1, upper_red_1)\n",
    "            mask2 = cv2.inRange(img_HSV, lower_red_2, upper_red_2)\n",
    "\n",
    "            # XOR masks\n",
    "            mask = cv2.bitwise_xor(mask1, mask2)\n",
    "        elif colour == 'green':\n",
    "            mask = cv2.inRange(img_HSV, lower_green, upper_green)\n",
    "        \n",
    "        elif colour == 'yellow':\n",
    "            mask = cv2.inRange(img_HSV, lower_yellow, upper_yellow)\n",
    "            \n",
    "        \n",
    "        # bitwise and with image\n",
    "        result = cv2.bitwise_and(img_HSV, img_HSV, mask=mask)\n",
    "\n",
    "\n",
    "        # put median blur over the top\n",
    "        median = cv2.medianBlur(mask,23)\n",
    "        \n",
    "        print(\"pixel count: \" + str(cv2.countNonZero(median)))\n",
    "        \n",
    "        if cv2.countNonZero(median) < 2000:\n",
    "            print(\"no more objects in scene of colour: \" + colour)\n",
    "            return None\n",
    "\n",
    "        # find connected components\n",
    "        ret, labels = cv2.connectedComponents(median)\n",
    "\n",
    "        # Map component labels to hue val\n",
    "        label_hue = np.uint8(179*labels/np.max(labels))\n",
    "        blank_ch = 255*np.ones_like(label_hue)\n",
    "        labeled_img = cv2.merge([label_hue, blank_ch, blank_ch])\n",
    "\n",
    "        # cvt to BGR for display\n",
    "        labeled_img = cv2.cvtColor(labeled_img, cv2.COLOR_HSV2BGR)\n",
    "\n",
    "        # set bg label to black\n",
    "        labeled_img[label_hue==0] = 0\n",
    "\n",
    "        #########################################################\n",
    "        ## Finding Centers!\n",
    "        ret,thresh = cv2.threshold(median,127,255,0)\n",
    "\n",
    "        # find contours in the binary image\n",
    "        contours, hierarchy = cv2.findContours(thresh,cv2.RETR_TREE,cv2.CHAIN_APPROX_SIMPLE)\n",
    "        \n",
    "        distance_min = 100000\n",
    "        for c in contours:\n",
    "            # calculate moments for each contour\n",
    "            M = cv2.moments(c)\n",
    "\n",
    "            # calculate x,y coordinate of center\n",
    "            if M[\"m00\"] != 0:\n",
    "                cX = int(M[\"m10\"] / M[\"m00\"])\n",
    "                cY = int(M[\"m01\"] / M[\"m00\"])\n",
    "                cv2.circle(labeled_img, (cX, cY), 5, (255, 255, 255), -1)\n",
    "                \n",
    "                distance_new = np.sqrt(cX**2 + cY**2)\n",
    "                if distance_new < distance_min:\n",
    "                    distance_min = distance_new\n",
    "                    X_top_left = cX\n",
    "                    Y_top_left = cY\n",
    "                \n",
    "                print(\"centerpoints at: x: \" + str(cX) + \" y: \" + str(cY))\n",
    "        \n",
    "        print(\"top left points are: x: \" + str(X_top_left) + \" y: \" + str(Y_top_left))\n",
    "        \n",
    "        X_from_center = X_top_left - (640/2)\n",
    "        Y_from_center = Y_top_left - (480/2)\n",
    "        \n",
    "        print(\"distance from center: x: \" + str(X_from_center) + \" y: \" + str(Y_from_center))\n",
    "        \n",
    "        # print out figures\n",
    "        figure = plt.figure(figsize=(20,20))\n",
    "        plt.subplot(1, 4, 1)\n",
    "        # mask\n",
    "        plt.imshow(mask, cmap=\"gray\")\n",
    "        plt.subplot(1, 4, 2)\n",
    "        # median blue\n",
    "        plt.imshow(median)\n",
    "        #original image\n",
    "        plt.subplot(1, 4, 3)\n",
    "        plt.imshow(img_RGB)\n",
    "        # final \n",
    "        plt.subplot(1, 4, 4)\n",
    "        plt.imshow(labeled_img)\n",
    "\n",
    "        plt.show()\n",
    "        \n",
    "        return [X_from_center, Y_from_center]"
   ]
  },
  {
   "cell_type": "code",
   "execution_count": 9,
   "metadata": {},
   "outputs": [],
   "source": [
    "def test_robot(a = 0.2, v = 0.3):\n",
    "    '''\n",
    "    Test to see if robot is behaving normally\n",
    "    '''\n",
    "    \n",
    "    # defining joint angles of important positions\n",
    "#     cam_init_pos = [-0.006403748189107716, -1.9564278761493128, -0.4473179022418421, -1.808915917073385, -4.750971380864279, 0.04987834393978119]\n",
    "    cam_init_pos = [-0.12137872377504522, -2.0197680632220667, -0.9036515394793909, -1.24553090730776, -4.750875894223348, 0.050909362733364105]\n",
    "    bucket_pos = [1.6486937999725342, -2.4073990027057093, -1.8858941237079065, -0.36886865297426397, -4.742553655301229, 0.0471811443567276]\n",
    "    hardcode_object_loc = [-0.024045769368306935, -1.8617809454547327, -1.511141602193014, -1.4511950651751917, -4.672266546879904, 0.047373268753290176]\n",
    "    bucket_pick = [-0.04573041597475225, -1.8159015814410608, -1.2815788427936, -1.4384973684894007, -4.67054266134371, 0.04719312861561775]\n",
    "\n",
    "    # logging\n",
    "#     logging.basicConfig(level=logging.WARN)\n",
    "\n",
    "    # connecting to robot and initialising gripper\n",
    "    while(1):\n",
    "        try:\n",
    "            rob = urx.Robot(\"192.168.1.6\")\n",
    "        except:\n",
    "            print(\"didnt connect, try again\")\n",
    "            time.sleep(1)\n",
    "        else:\n",
    "            break\n",
    "    \n",
    "    robotiqgrip = Robotiq_Two_Finger_Gripper(rob)\n",
    "\n",
    "#     # not sure what this does\n",
    "#     rob.set_tcp((0,0,0,0,0,0))\n",
    "#     rob.set_payload(0.5, (0,0,0))\n",
    "\n",
    "    # initalise with gripper open\n",
    "    robotiqgrip.open_gripper()\n",
    "\n",
    "    # move to initial position\n",
    "    rob.movej(cam_init_pos, acc = a, vel = v)\n",
    "\n",
    "\n",
    "#     rob.movej(hardcode_object_loc, acc = a, vel = v)\n",
    "\n",
    "#     robotiqgrip.close_gripper()\n",
    "\n",
    "#     rob.movej(cam_init_pos, acc = a, vel = v)\n",
    "\n",
    "#     rob.movej(bucket_pos, acc = a, vel = v)\n",
    "\n",
    "#     robotiqgrip.open_gripper()\n",
    "\n",
    "\n",
    "\n",
    "    pose = rob.getj()\n",
    "    # pose = rob.get_pose()\n",
    "    # pose = rob.get_orientation()\n",
    "    print(\"robot tcp is at pose: \", pose)\n",
    "\n",
    "    rob.close()"
   ]
  },
  {
   "cell_type": "code",
   "execution_count": 8,
   "metadata": {},
   "outputs": [],
   "source": [
    "def rob_connect():\n",
    "    while(1):\n",
    "        try:\n",
    "            rob = urx.Robot(\"192.168.1.6\")\n",
    "        except:\n",
    "            print(\"didnt connect, try again\")\n",
    "            time.sleep(1)\n",
    "        else:\n",
    "            robotiqgrip = Robotiq_Two_Finger_Gripper(rob)\n",
    "            return rob\n",
    "    "
   ]
  },
  {
   "cell_type": "code",
   "execution_count": null,
   "metadata": {},
   "outputs": [],
   "source": []
  },
  {
   "cell_type": "code",
   "execution_count": null,
   "metadata": {},
   "outputs": [],
   "source": []
  },
  {
   "cell_type": "code",
   "execution_count": null,
   "metadata": {},
   "outputs": [],
   "source": []
  }
 ],
 "metadata": {
  "kernelspec": {
   "display_name": "Python 3",
   "language": "python",
   "name": "python3"
  },
  "language_info": {
   "codemirror_mode": {
    "name": "ipython",
    "version": 3
   },
   "file_extension": ".py",
   "mimetype": "text/x-python",
   "name": "python",
   "nbconvert_exporter": "python",
   "pygments_lexer": "ipython3",
   "version": "3.7.4"
  }
 },
 "nbformat": 4,
 "nbformat_minor": 2
}
