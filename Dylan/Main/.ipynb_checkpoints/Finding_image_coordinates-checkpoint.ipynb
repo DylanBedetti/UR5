{
 "cells": [
  {
   "cell_type": "markdown",
   "metadata": {},
   "source": [
    "(480, 640, 3)\n",
    "\n",
    "# End goal\n",
    "- Create a callibration checking tool!\n",
    "\n",
    "width = 44cm (x) = 640\n",
    "height = 40cm (y) = 480"
   ]
  },
  {
   "cell_type": "code",
   "execution_count": 5,
   "metadata": {},
   "outputs": [
    {
     "data": {
      "text/plain": [
       "<Figure size 640x480 with 1 Axes>"
      ]
     },
     "metadata": {},
     "output_type": "display_data"
    },
    {
     "name": "stdout",
     "output_type": "stream",
     "text": [
      "image recieved\n"
     ]
    }
   ],
   "source": [
    "import requests\n",
    "import shutil\n",
    "import cv2\n",
    "import time\n",
    "import matplotlib.pyplot as plt\n",
    "\n",
    "get_image()\n"
   ]
  },
  {
   "cell_type": "code",
   "execution_count": 46,
   "metadata": {},
   "outputs": [
    {
     "name": "stdout",
     "output_type": "stream",
     "text": [
      "(0.0006875000000000001, 0.0008333333333333333)\n"
     ]
    }
   ],
   "source": [
    "# find mm per pixel\n",
    "\n",
    "x_m = (44.0/640.0) / 100\n",
    "y_m = (40.0/480.0) / 100\n",
    "print(x_m, y_m)"
   ]
  },
  {
   "cell_type": "code",
   "execution_count": 12,
   "metadata": {},
   "outputs": [],
   "source": [
    "def convert_to_mm(x, y):\n",
    "    '''\n",
    "    return mm from center!\n",
    "    '''\n",
    "    x = x - (640/2)\n",
    "    y = y - (480/2)\n",
    "    \n",
    "    x = ((44.0/640.0) / 100) * x\n",
    "    y = ((40.0/480.0) / 100) * y\n",
    "    \n",
    "    \n",
    "    return [x, y]"
   ]
  },
  {
   "cell_type": "code",
   "execution_count": 14,
   "metadata": {},
   "outputs": [
    {
     "name": "stdout",
     "output_type": "stream",
     "text": [
      "(423.84448412253596, 297.4909363139942)\n",
      "(0.07139308283424348, 0.047909113594995174)\n",
      "(423.84448412253596, 297.4909363139942)\n",
      "(0.07139308283424348, 0.047909113594995174)\n"
     ]
    }
   ],
   "source": [
    "## CALLIBRATING IMAGE\n",
    "\n",
    "%matplotlib tk\n",
    "import matplotlib.pyplot as plt\n",
    "import matplotlib.image as mpimg\n",
    "\n",
    "fig = plt.figure(figsize=(20,30))\n",
    "\n",
    "img=mpimg.imread('images/latest_image.jpg')\n",
    "\n",
    "all_val = []\n",
    "\n",
    "def onclick(event):\n",
    "    ix, iy = event.xdata, event.ydata\n",
    "    print(ix, iy)\n",
    "    [x, y] = convert_to_mm(ix, iy)\n",
    "    print(x, y)\n",
    "\n",
    "cid = fig.canvas.mpl_connect('button_press_event', onclick)\n",
    "\n",
    "imgplot = plt.imshow(img)\n",
    "plt.show()"
   ]
  },
  {
   "cell_type": "markdown",
   "metadata": {},
   "source": [
    "x changes = [0, 2, 4, 6, 8, 10, 12, 14, 16, 18, 20, 22]\n",
    "y changes = [0, 2, 4, 6, 8, 10, 12, 14, 16]"
   ]
  },
  {
   "cell_type": "code",
   "execution_count": null,
   "metadata": {},
   "outputs": [],
   "source": []
  },
  {
   "cell_type": "code",
   "execution_count": null,
   "metadata": {},
   "outputs": [],
   "source": []
  },
  {
   "cell_type": "code",
   "execution_count": null,
   "metadata": {},
   "outputs": [],
   "source": []
  },
  {
   "cell_type": "code",
   "execution_count": null,
   "metadata": {},
   "outputs": [],
   "source": []
  },
  {
   "cell_type": "code",
   "execution_count": null,
   "metadata": {},
   "outputs": [],
   "source": []
  },
  {
   "cell_type": "code",
   "execution_count": null,
   "metadata": {},
   "outputs": [],
   "source": []
  },
  {
   "cell_type": "code",
   "execution_count": null,
   "metadata": {},
   "outputs": [],
   "source": []
  },
  {
   "cell_type": "code",
   "execution_count": 27,
   "metadata": {},
   "outputs": [],
   "source": [
    "x = [323.025534061346, 293.880949832016, 265.36313085492964, 236.5319292517215, 208.01411027463516, 179.18290867142701, 148.15802868536605, 120.58035758664519, 90.49562547894973, 61.03765862349792, 32.51983964641158, 0.24142915586331526]\n",
    "y = [144.94912714404245,212.33626853645467,238.39383834185946,267.28375269133005,295.04072922317437,322.2312368462055,353.9534957397418,382.27694118039926,411.16685552986985,440.05676987934044,470.64609095525043,479.1431245874477]"
   ]
  },
  {
   "cell_type": "code",
   "execution_count": 83,
   "metadata": {},
   "outputs": [],
   "source": [
    "x = [238.79238558052117, 258.531968031968, 283.03627728204, 304.13721024737964, 327.9608442405052, 351.78447823363064, 373.56608645591683, 396.02836993514944, 419.852003928275, 443.67563792140055, 466.13792140063316, 488.60020487986577, 511.0624883590984]\n",
    "y = [190.74252019167278, 215.24682944174475,239.75113869181672,263.5747726849422,286.0370561641748,310.5413654142468,335.04567466431877,358.18863340049785,382.6929426505698, 407.1972519006418]"
   ]
  },
  {
   "cell_type": "code",
   "execution_count": 84,
   "metadata": {},
   "outputs": [
    {
     "name": "stdout",
     "output_type": "stream",
     "text": [
      "[0.0, 19.739582451446836, 44.243891701518805, 65.34482466685847, 89.16845865998403, 112.99209265310947, 134.77370087539566, 157.23598435462827, 181.05961834775383, 204.88325234087938, 227.345535820112, 249.8078192993446, 272.2701027785772]\n",
      "[0.0, 24.50430925007197, 49.00861850014394, 72.83225249326944, 95.29453597250205, 119.79884522257402, 144.30315447264599, 167.44611320882507, 191.95042245889704, 216.454731708969]\n"
     ]
    }
   ],
   "source": [
    "for x_i in range(len(x)):\n",
    "    x[x_i] = x[x_i] - 238.79238558052117\n",
    "for y_i in range(len(y)):\n",
    "    y[y_i] = y[y_i] - 190.74252019167278\n",
    "print(x)\n",
    "print(y)\n",
    "    "
   ]
  },
  {
   "cell_type": "code",
   "execution_count": 74,
   "metadata": {},
   "outputs": [],
   "source": [
    "def find_distance(im_x, im_y):\n",
    "    '''\n",
    "    im_x and im_y are pixel values\n",
    "    \n",
    "    return values in meters!\n",
    "    '''\n",
    "    # getting x and y values for convserion\n",
    "    x = [0.0, 19.739582451446836, 44.243891701518805, 65.34482466685847, 89.16845865998403, 112.99209265310947, 134.77370087539566, 157.23598435462827, 181.05961834775383, 204.88325234087938, 227.345535820112, 249.8078192993446]\n",
    "    y = [0.0, 24.50430925007197, 49.00861850014394, 72.83225249326944, 95.29453597250205, 119.79884522257402, 144.30315447264599, 167.44611320882507, 191.95042245889704]\n",
    "    x_neg = 1\n",
    "    y_neg = 1\n",
    "    # centering x and y values\n",
    "    im_x = im_x - 238.79238558052117\n",
    "    im_y = im_y - 190.74252019167278\n",
    "    \n",
    "    # if values are negative\n",
    "    if (im_x < 0):\n",
    "        x_neg = -1\n",
    "        im_x = -im_x\n",
    "    if (im_y < 0):\n",
    "        y_neg = -1\n",
    "        im_y = -im_y\n",
    "#     print(im_y)\n",
    "    for x_val in range(len(x) - 1):\n",
    "        for y_val in range(len(y) - 1):\n",
    "#             print(x_val, y_val)\n",
    "            if (im_x > x[x_val] and im_x < x[x_val + 1] and im_y > y[y_val] and im_y < y[y_val + 1]):\n",
    "                print(x[x_val])\n",
    "                print(y[y_val])\n",
    "                x_dist = (((im_x -  x[x_val])/(x[x_val + 1] - x[x_val]))*2 + x_val*2)/100\n",
    "                y_dist = (((im_y -  y[y_val])/(y[y_val + 1] - y[y_val]))*2 + y_val*2)/100\n",
    "                print(x_dist)\n",
    "                print(y_dist)\n",
    "                \n",
    "                return [x_dist * x_neg, y_dist * y_neg]"
   ]
  },
  {
   "cell_type": "code",
   "execution_count": 75,
   "metadata": {},
   "outputs": [
    {
     "name": "stdout",
     "output_type": "stream",
     "text": [
      "44.2438917015\n",
      "0.0\n",
      "0.048746310807\n",
      "0.0076722838745\n"
     ]
    },
    {
     "data": {
      "text/plain": [
       "[-0.04874631080704827, 0.007672283874503317]"
      ]
     },
     "execution_count": 75,
     "metadata": {},
     "output_type": "execute_result"
    }
   ],
   "source": [
    "find_distance(185.3207279773248, 200.14272102743126)"
   ]
  },
  {
   "cell_type": "code",
   "execution_count": 80,
   "metadata": {},
   "outputs": [
    {
     "name": "stdout",
     "output_type": "stream",
     "text": [
      "0.0\n",
      "95.2945359725\n",
      "0.000802839252016\n",
      "0.091396317026\n"
     ]
    },
    {
     "data": {
      "text/plain": [
       "[-0.0008028392520157804, 0.09139631702598118]"
      ]
     },
     "execution_count": 80,
     "metadata": {},
     "output_type": "execute_result"
    }
   ],
   "source": [
    "find_distance(238, 300)"
   ]
  },
  {
   "cell_type": "code",
   "execution_count": null,
   "metadata": {},
   "outputs": [],
   "source": []
  },
  {
   "cell_type": "code",
   "execution_count": null,
   "metadata": {},
   "outputs": [],
   "source": []
  },
  {
   "cell_type": "code",
   "execution_count": null,
   "metadata": {},
   "outputs": [],
   "source": []
  },
  {
   "cell_type": "code",
   "execution_count": 2,
   "metadata": {},
   "outputs": [],
   "source": [
    "def get_image():\n",
    "    '''\n",
    "    Recieve latest image and save it in a folder\n",
    "    '''\n",
    "    \n",
    "    image_url = \"http://192.168.1.6:4242/current.jpg?type=color\"\n",
    "    \n",
    "    resp = requests.get(image_url, stream=True)\n",
    "    # Open a local file with wb ( write binary ) permission.\n",
    "    img_string = 'images/latest_image.jpg'\n",
    "    local_file = open(img_string, 'wb')\n",
    "    # Set decode_content value to True, otherwise the downloaded image file's size will be zero.\n",
    "    resp.raw.decode_content = True\n",
    "    # Copy the response stream raw data to local image file.\n",
    "    shutil.copyfileobj(resp.raw, local_file)\n",
    "    # Remove the image url response object.\n",
    "    del resp\n",
    "    \n",
    "    im = cv2.imread('images/latest_image.jpg')\n",
    "    plt.imshow(cv2.cvtColor(im, cv2.COLOR_BGR2RGB))\n",
    "    plt.show()\n",
    "    \n",
    "    print(\"image recieved\")\n"
   ]
  },
  {
   "cell_type": "code",
   "execution_count": null,
   "metadata": {},
   "outputs": [],
   "source": []
  }
 ],
 "metadata": {
  "kernelspec": {
   "display_name": "Python 2",
   "language": "python",
   "name": "python2"
  },
  "language_info": {
   "codemirror_mode": {
    "name": "ipython",
    "version": 2
   },
   "file_extension": ".py",
   "mimetype": "text/x-python",
   "name": "python",
   "nbconvert_exporter": "python",
   "pygments_lexer": "ipython2",
   "version": "2.7.16"
  }
 },
 "nbformat": 4,
 "nbformat_minor": 2
}
