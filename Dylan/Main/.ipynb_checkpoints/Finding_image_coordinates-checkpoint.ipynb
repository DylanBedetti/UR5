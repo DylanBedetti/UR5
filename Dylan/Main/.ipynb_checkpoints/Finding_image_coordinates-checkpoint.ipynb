{
 "cells": [
  {
   "cell_type": "markdown",
   "metadata": {},
   "source": [
    "(480, 640, 3)"
   ]
  },
  {
   "cell_type": "code",
   "execution_count": 12,
   "metadata": {},
   "outputs": [
    {
     "name": "stdout",
     "output_type": "stream",
     "text": [
      "190.74252019167278\n",
      "215.24682944174475\n",
      "239.75113869181672\n",
      "263.5747726849422\n",
      "286.0370561641748\n",
      "310.5413654142468\n",
      "335.04567466431877\n",
      "358.18863340049785\n",
      "382.6929426505698\n"
     ]
    }
   ],
   "source": [
    "%matplotlib tk\n",
    "import matplotlib.pyplot as plt\n",
    "import matplotlib.image as mpimg\n",
    "\n",
    "fig = plt.figure(figsize=(20,30))\n",
    "\n",
    "img=mpimg.imread('images/latest_image.jpg')\n",
    "\n",
    "def onclick(event):\n",
    "    ix, iy = event.xdata, event.ydata\n",
    "    print(ix, iy)\n",
    "\n",
    "cid = fig.canvas.mpl_connect('button_press_event', onclick)\n",
    "\n",
    "imgplot = plt.imshow(img)\n",
    "plt.show()"
   ]
  },
  {
   "cell_type": "markdown",
   "metadata": {},
   "source": [
    "x changes = [0, 2, 4, 6, 8, 10, 12, 14, 16, 18, 20, 22]\n",
    "y changes = [0, 2, 4, 6, 8, 10, 12, 14, 16]"
   ]
  },
  {
   "cell_type": "code",
   "execution_count": 82,
   "metadata": {},
   "outputs": [
    {
     "data": {
      "text/plain": [
       "407.1972519006418"
      ]
     },
     "execution_count": 82,
     "metadata": {},
     "output_type": "execute_result"
    }
   ],
   "source": [
    "(382.6929426505698-358.18863340049785) + 382.6929426505698"
   ]
  },
  {
   "cell_type": "code",
   "execution_count": 14,
   "metadata": {},
   "outputs": [],
   "source": [
    "x = [238.79238558052117, 258.531968031968, 283.03627728204, 304.13721024737964, 327.9608442405052, 351.78447823363064, 373.56608645591683, 396.02836993514944, 419.852003928275, 443.67563792140055, 466.13792140063316, 488.60020487986577, 511.0624883590984]\n",
    "y = [190.74252019167278, 215.24682944174475,239.75113869181672,263.5747726849422,286.0370561641748,310.5413654142468,335.04567466431877,358.18863340049785,382.6929426505698, 407.1972519006418]"
   ]
  },
  {
   "cell_type": "code",
   "execution_count": 50,
   "metadata": {},
   "outputs": [
    {
     "name": "stdout",
     "output_type": "stream",
     "text": [
      "[-238.79238558052117, -219.05280312907433, -194.54849387900236, -173.4475609136627, -149.62392692053714, -125.8002929274117, -104.01868470512551, -81.5564012258929, -57.732767232767344, -33.90913323964179, -11.44684976040918, 11.01543371882343]\n",
      "[-190.74252019167278, -166.2382109416008, -141.73390169152884, -117.91026769840335, -95.44798421917073, -70.94367496909877, -46.439365719026796, -23.296406982847714, 1.2079022672242559]\n"
     ]
    }
   ],
   "source": [
    "for x_i in range(len(x)):\n",
    "    x[x_i] = x[x_i] - 238.79238558052117\n",
    "for y_i in range(len(y)):\n",
    "    y[y_i] = y[y_i] - 190.74252019167278\n",
    "print(x)\n",
    "print(y)\n",
    "    "
   ]
  },
  {
   "cell_type": "code",
   "execution_count": 53,
   "metadata": {},
   "outputs": [
    {
     "data": {
      "text/plain": [
       "[0, 1, 2, 3, 4, 5, 6, 7, 8, 9, 10, 11]"
      ]
     },
     "execution_count": 53,
     "metadata": {},
     "output_type": "execute_result"
    }
   ],
   "source": [
    "range(len(x))"
   ]
  },
  {
   "cell_type": "code",
   "execution_count": 58,
   "metadata": {},
   "outputs": [
    {
     "ename": "IndexError",
     "evalue": "list index out of range",
     "output_type": "error",
     "traceback": [
      "\u001b[1;31m---------------------------------------------------------------------------\u001b[0m",
      "\u001b[1;31mIndexError\u001b[0m                                Traceback (most recent call last)",
      "\u001b[1;32m<ipython-input-58-166f6e382a54>\u001b[0m in \u001b[0;36m<module>\u001b[1;34m()\u001b[0m\n\u001b[1;32m----> 1\u001b[1;33m \u001b[0mx\u001b[0m\u001b[1;33m[\u001b[0m\u001b[1;36m12\u001b[0m\u001b[1;33m]\u001b[0m\u001b[1;33m\u001b[0m\u001b[0m\n\u001b[0m",
      "\u001b[1;31mIndexError\u001b[0m: list index out of range"
     ]
    }
   ],
   "source": [
    "x[12]"
   ]
  },
  {
   "cell_type": "code",
   "execution_count": 54,
   "metadata": {},
   "outputs": [
    {
     "data": {
      "text/plain": [
       "[0, 1, 2, 3, 4, 5, 6, 7, 8]"
      ]
     },
     "execution_count": 54,
     "metadata": {},
     "output_type": "execute_result"
    }
   ],
   "source": [
    "range(len(y))"
   ]
  },
  {
   "cell_type": "code",
   "execution_count": 57,
   "metadata": {},
   "outputs": [
    {
     "name": "stdout",
     "output_type": "stream",
     "text": [
      "0\n",
      "1\n",
      "2\n",
      "3\n",
      "4\n",
      "5\n",
      "6\n",
      "7\n",
      "8\n",
      "9\n",
      "10\n",
      "11\n"
     ]
    }
   ],
   "source": [
    "for i in range(len(x)):\n",
    "    print(i)"
   ]
  },
  {
   "cell_type": "code",
   "execution_count": 74,
   "metadata": {},
   "outputs": [],
   "source": [
    "def find_distance(im_x, im_y):\n",
    "    '''\n",
    "    im_x and im_y are pixel values\n",
    "    \n",
    "    return values in meters!\n",
    "    '''\n",
    "    # getting x and y values for convserion\n",
    "    x = [0.0, 19.739582451446836, 44.243891701518805, 65.34482466685847, 89.16845865998403, 112.99209265310947, 134.77370087539566, 157.23598435462827, 181.05961834775383, 204.88325234087938, 227.345535820112, 249.8078192993446]\n",
    "    y = [0.0, 24.50430925007197, 49.00861850014394, 72.83225249326944, 95.29453597250205, 119.79884522257402, 144.30315447264599, 167.44611320882507, 191.95042245889704]\n",
    "    x_neg = 1\n",
    "    y_neg = 1\n",
    "    # centering x and y values\n",
    "    im_x = im_x - 238.79238558052117\n",
    "    im_y = im_y - 190.74252019167278\n",
    "    \n",
    "    # if values are negative\n",
    "    if (im_x < 0):\n",
    "        x_neg = -1\n",
    "        im_x = -im_x\n",
    "    if (im_y < 0):\n",
    "        y_neg = -1\n",
    "        im_y = -im_y\n",
    "#     print(im_y)\n",
    "    for x_val in range(len(x) - 1):\n",
    "        for y_val in range(len(y) - 1):\n",
    "#             print(x_val, y_val)\n",
    "            if (im_x > x[x_val] and im_x < x[x_val + 1] and im_y > y[y_val] and im_y < y[y_val + 1]):\n",
    "                print(x[x_val])\n",
    "                print(y[y_val])\n",
    "                x_dist = (((im_x -  x[x_val])/(x[x_val + 1] - x[x_val]))*2 + x_val*2)/100\n",
    "                y_dist = (((im_y -  y[y_val])/(y[y_val + 1] - y[y_val]))*2 + y_val*2)/100\n",
    "                print(x_dist)\n",
    "                print(y_dist)\n",
    "                \n",
    "                return [x_dist * x_neg, y_dist * y_neg]"
   ]
  },
  {
   "cell_type": "code",
   "execution_count": 75,
   "metadata": {},
   "outputs": [
    {
     "name": "stdout",
     "output_type": "stream",
     "text": [
      "44.2438917015\n",
      "0.0\n",
      "0.048746310807\n",
      "0.0076722838745\n"
     ]
    },
    {
     "data": {
      "text/plain": [
       "[-0.04874631080704827, 0.007672283874503317]"
      ]
     },
     "execution_count": 75,
     "metadata": {},
     "output_type": "execute_result"
    }
   ],
   "source": [
    "find_distance(185.3207279773248, 200.14272102743126)"
   ]
  },
  {
   "cell_type": "code",
   "execution_count": 80,
   "metadata": {},
   "outputs": [
    {
     "name": "stdout",
     "output_type": "stream",
     "text": [
      "0.0\n",
      "95.2945359725\n",
      "0.000802839252016\n",
      "0.091396317026\n"
     ]
    },
    {
     "data": {
      "text/plain": [
       "[-0.0008028392520157804, 0.09139631702598118]"
      ]
     },
     "execution_count": 80,
     "metadata": {},
     "output_type": "execute_result"
    }
   ],
   "source": [
    "find_distance(238, 300)"
   ]
  },
  {
   "cell_type": "code",
   "execution_count": null,
   "metadata": {},
   "outputs": [],
   "source": []
  }
 ],
 "metadata": {
  "kernelspec": {
   "display_name": "Python 2",
   "language": "python",
   "name": "python2"
  },
  "language_info": {
   "codemirror_mode": {
    "name": "ipython",
    "version": 2
   },
   "file_extension": ".py",
   "mimetype": "text/x-python",
   "name": "python",
   "nbconvert_exporter": "python",
   "pygments_lexer": "ipython2",
   "version": "2.7.16"
  }
 },
 "nbformat": 4,
 "nbformat_minor": 2
}
