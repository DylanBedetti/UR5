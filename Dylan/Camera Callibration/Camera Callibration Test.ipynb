{
 "cells": [
  {
   "cell_type": "code",
   "execution_count": 1,
   "metadata": {},
   "outputs": [
    {
     "name": "stdout",
     "output_type": "stream",
     "text": [
      "Pixiedust database opened successfully\n"
     ]
    },
    {
     "data": {
      "text/html": [
       "\n",
       "        <div style=\"margin:10px\">\n",
       "            <a href=\"https://github.com/ibm-watson-data-lab/pixiedust\" target=\"_new\">\n",
       "                <img src=\"https://github.com/ibm-watson-data-lab/pixiedust/raw/master/docs/_static/pd_icon32.png\" style=\"float:left;margin-right:10px\"/>\n",
       "            </a>\n",
       "            <span>Pixiedust version 1.1.17</span>\n",
       "        </div>\n",
       "        "
      ],
      "text/plain": [
       "<IPython.core.display.HTML object>"
      ]
     },
     "metadata": {},
     "output_type": "display_data"
    },
    {
     "name": "stdout",
     "output_type": "stream",
     "text": [
      "Table USER_PREFERENCES created successfully\n",
      "Table service_connections created successfully\n"
     ]
    }
   ],
   "source": [
    "import pixiedust"
   ]
  },
  {
   "cell_type": "code",
   "execution_count": 5,
   "metadata": {
    "pixiedust": {
     "displayParams": {}
    },
    "scrolled": true
   },
   "outputs": [
    {
     "name": "stdout",
     "output_type": "stream",
     "text": [
      "['images/local_image_6.jpg']\n",
      "(True, array([[[234.44144 ,  61.4331  ]],\n",
      "\n",
      "       [[258.67673 ,  63.584427]],\n",
      "\n",
      "       [[283.8436  ,  65.69708 ]],\n",
      "\n",
      "       [[308.21445 ,  67.845764]],\n",
      "\n",
      "       [[332.46304 ,  69.91914 ]],\n",
      "\n",
      "       [[356.37674 ,  71.6401  ]],\n",
      "\n",
      "       [[380.33536 ,  73.713646]],\n",
      "\n",
      "       [[404.38416 ,  75.60686 ]],\n",
      "\n",
      "       [[428.3829  ,  77.557465]],\n",
      "\n",
      "       [[232.64127 ,  86.77859 ]],\n",
      "\n",
      "       [[258.3239  ,  88.86721 ]],\n",
      "\n",
      "       [[282.13156 ,  90.7387  ]],\n",
      "\n",
      "       [[306.3708  ,  92.81979 ]],\n",
      "\n",
      "       [[330.16827 ,  94.78058 ]],\n",
      "\n",
      "       [[354.33682 ,  96.863396]],\n",
      "\n",
      "       [[378.05704 ,  98.630486]],\n",
      "\n",
      "       [[402.0816  , 100.58039 ]],\n",
      "\n",
      "       [[425.25882 , 102.43659 ]],\n",
      "\n",
      "       [[232.3606  , 111.36803 ]],\n",
      "\n",
      "       [[256.27975 , 113.37229 ]],\n",
      "\n",
      "       [[280.39688 , 115.404335]],\n",
      "\n",
      "       [[304.163   , 117.33643 ]],\n",
      "\n",
      "       [[328.18558 , 119.179276]],\n",
      "\n",
      "       [[351.8527  , 121.20803 ]],\n",
      "\n",
      "       [[375.4456  , 123.015945]],\n",
      "\n",
      "       [[399.64435 , 124.80769 ]],\n",
      "\n",
      "       [[423.1434  , 126.3273  ]],\n",
      "\n",
      "       [[230.60513 , 135.89458 ]],\n",
      "\n",
      "       [[255.28346 , 137.68947 ]],\n",
      "\n",
      "       [[278.5795  , 139.49217 ]],\n",
      "\n",
      "       [[303.24475 , 141.48816 ]],\n",
      "\n",
      "       [[327.26407 , 143.20872 ]],\n",
      "\n",
      "       [[350.39792 , 145.12646 ]],\n",
      "\n",
      "       [[372.54028 , 146.95988 ]],\n",
      "\n",
      "       [[396.44586 , 148.52066 ]],\n",
      "\n",
      "       [[420.36047 , 150.54163 ]],\n",
      "\n",
      "       [[228.43593 , 159.81989 ]],\n",
      "\n",
      "       [[252.35593 , 161.81912 ]],\n",
      "\n",
      "       [[276.52295 , 163.50177 ]],\n",
      "\n",
      "       [[300.38376 , 165.45337 ]],\n",
      "\n",
      "       [[324.31876 , 167.16351 ]],\n",
      "\n",
      "       [[346.9289  , 168.9629  ]],\n",
      "\n",
      "       [[370.62967 , 170.51056 ]],\n",
      "\n",
      "       [[394.3784  , 172.4369  ]],\n",
      "\n",
      "       [[418.27542 , 174.48543 ]],\n",
      "\n",
      "       [[228.31502 , 183.35237 ]],\n",
      "\n",
      "       [[252.00385 , 185.1208  ]],\n",
      "\n",
      "       [[274.75977 , 187.15955 ]],\n",
      "\n",
      "       [[298.50504 , 188.57716 ]],\n",
      "\n",
      "       [[321.58276 , 190.47672 ]],\n",
      "\n",
      "       [[344.58527 , 192.02258 ]],\n",
      "\n",
      "       [[368.25653 , 194.0358  ]],\n",
      "\n",
      "       [[392.22354 , 195.80975 ]],\n",
      "\n",
      "       [[415.49527 , 197.3199  ]],\n",
      "\n",
      "       [[226.45221 , 206.60016 ]],\n",
      "\n",
      "       [[250.30089 , 208.37274 ]],\n",
      "\n",
      "       [[273.25034 , 210.2451  ]],\n",
      "\n",
      "       [[296.48676 , 211.828   ]],\n",
      "\n",
      "       [[320.1514  , 213.43016 ]],\n",
      "\n",
      "       [[342.63095 , 215.15028 ]],\n",
      "\n",
      "       [[367.32187 , 217.0179  ]],\n",
      "\n",
      "       [[388.58765 , 218.87706 ]],\n",
      "\n",
      "       [[412.4716  , 220.4103  ]]], dtype=float32))\n"
     ]
    }
   ],
   "source": [
    "# %%pixie_debugger\n",
    "# %%debug\n",
    "\n",
    "import numpy as np\n",
    "import cv2\n",
    "import glob\n",
    "import time\n",
    "\n",
    "# termination criteria\n",
    "criteria = (cv2.TERM_CRITERIA_EPS + cv2.TERM_CRITERIA_MAX_ITER, 30, 0.001)\n",
    "\n",
    "# prepare object points, like (0,0,0), (1,0,0), (2,0,0) ....,(6,5,0)\n",
    "objp = np.zeros((7*9,3), np.float32)\n",
    "objp[:,:2] = np.mgrid[0:7,0:9].T.reshape(-1,2)\n",
    "\n",
    "# Arrays to store object points and image points from all the images.\n",
    "objpoints = [] # 3d point in real world space\n",
    "imgpoints = [] # 2d points in image plane.\n",
    "\n",
    "images = glob.glob('images/local_image_6.jpg')\n",
    "# images = glob.glob('images/*.jpg')\n",
    "print(images)\n",
    "\n",
    "for fname in images:\n",
    "    img = cv2.imread(fname)\n",
    "    gray = cv2.cvtColor(img,cv2.COLOR_BGR2GRAY)\n",
    "\n",
    "    # Find the chess board corners\n",
    "    ret, corners = cv2.findChessboardCorners(gray, (9,7),None)\n",
    "    print(ret, corners)\n",
    "\n",
    "    # If found, add object points, image points (after refining them)\n",
    "    if ret == True:\n",
    "        objpoints.append(objp)\n",
    "\n",
    "        corners2 = cv2.cornerSubPix(gray,corners,(11,11),(-1,-1),criteria)\n",
    "        imgpoints.append(corners2)\n",
    "\n",
    "        # Draw and display the corners\n",
    "        img = cv2.drawChessboardCorners(img, (9,7), corners2,ret)\n",
    "        \n",
    "        ret, mtx, dist, rvecs, tvecs = cv2.calibrateCamera(objpoints, imgpoints, gray.shape[::-1],None,None)\n",
    "        cv2.imshow('img',img)\n",
    "        cv2.waitKey(5000)\n",
    "\n",
    "cv2.destroyAllWindows()"
   ]
  },
  {
   "cell_type": "code",
   "execution_count": 6,
   "metadata": {},
   "outputs": [
    {
     "data": {
      "text/plain": [
       "array([[6.61199953e+03, 0.00000000e+00, 4.25490883e+01],\n",
       "       [0.00000000e+00, 8.71726046e+02, 1.59477327e+02],\n",
       "       [0.00000000e+00, 0.00000000e+00, 1.00000000e+00]])"
      ]
     },
     "execution_count": 6,
     "metadata": {},
     "output_type": "execute_result"
    }
   ],
   "source": [
    "mtx"
   ]
  },
  {
   "cell_type": "code",
   "execution_count": 8,
   "metadata": {},
   "outputs": [
    {
     "data": {
      "text/plain": [
       "[array([[ 2.35344915],\n",
       "        [-5.30579867],\n",
       "        [45.35653381]])]"
      ]
     },
     "execution_count": 8,
     "metadata": {},
     "output_type": "execute_result"
    }
   ],
   "source": [
    "tvecs"
   ]
  },
  {
   "cell_type": "code",
   "execution_count": 23,
   "metadata": {},
   "outputs": [],
   "source": [
    "img = cv2.imread('images/local_image_6.jpg')\n",
    "h,  w = img.shape[:2]\n",
    "newcameramtx, roi=cv2.getOptimalNewCameraMatrix(mtx,dist,(w,h),1,(w,h))"
   ]
  },
  {
   "cell_type": "code",
   "execution_count": 24,
   "metadata": {},
   "outputs": [
    {
     "data": {
      "text/plain": [
       "True"
      ]
     },
     "execution_count": 24,
     "metadata": {},
     "output_type": "execute_result"
    }
   ],
   "source": [
    "# undistort\n",
    "dst = cv2.undistort(img, mtx, dist, None, newcameramtx)\n",
    "\n",
    "# crop the image\n",
    "x,y,w,h = roi\n",
    "dst = dst[y:y+h, x:x+w]\n",
    "cv2.imwrite('calibresult.png',dst)"
   ]
  },
  {
   "cell_type": "code",
   "execution_count": null,
   "metadata": {},
   "outputs": [],
   "source": []
  },
  {
   "cell_type": "code",
   "execution_count": null,
   "metadata": {},
   "outputs": [],
   "source": []
  },
  {
   "cell_type": "code",
   "execution_count": null,
   "metadata": {},
   "outputs": [],
   "source": []
  }
 ],
 "metadata": {
  "kernelspec": {
   "display_name": "Python 2",
   "language": "python",
   "name": "python2"
  },
  "language_info": {
   "codemirror_mode": {
    "name": "ipython",
    "version": 2
   },
   "file_extension": ".py",
   "mimetype": "text/x-python",
   "name": "python",
   "nbconvert_exporter": "python",
   "pygments_lexer": "ipython2",
   "version": "2.7.16"
  }
 },
 "nbformat": 4,
 "nbformat_minor": 2
}
