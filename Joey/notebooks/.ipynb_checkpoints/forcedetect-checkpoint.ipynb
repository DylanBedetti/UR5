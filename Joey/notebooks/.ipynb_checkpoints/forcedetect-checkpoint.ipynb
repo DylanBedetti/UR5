{
 "cells": [
  {
   "cell_type": "code",
   "execution_count": 1,
   "metadata": {},
   "outputs": [],
   "source": [
    "# Import all libraries!\n",
    "#import cv2\n",
    "import glob\n",
    "#import matplotlib.pyplot as plt\n",
    "import numpy as np\n",
    "#import requests\n",
    "import shutil\n",
    "import time\n",
    "from urx.robotiq_two_finger_gripper import Robotiq_Two_Finger_Gripper\n",
    "import logging\n",
    "import urx\n",
    "from urx import urrtmon\n",
    "\n",
    "logging.basicConfig(level=logging.CRITICAL)\n",
    "# HOW TO REMOVE LOGGING MESSAGES!!!?\n",
    "# only log critical msg?"
   ]
  },
  {
   "cell_type": "code",
   "execution_count": 4,
   "metadata": {},
   "outputs": [],
   "source": [
    "# defining important variables\n",
    "a = 0.2 #acceleration?\n",
    "v = 0.3 #velocity?\n",
    "\n",
    "l = 0.05 #unit length?\n",
    "\n",
    "# defining joint angles of important positions\n",
    "cam_init_pos = [-0.006403748189107716, -1.9564278761493128, -0.4473179022418421, -1.808915917073385, -4.750971380864279, 0.04987834393978119]\n",
    "bucket_pos = [1.6486937999725342, -2.4073990027057093, -1.8858941237079065, -0.36886865297426397, -4.742553655301229, 0.0471811443567276]\n",
    "hardcode_object_loc = [-0.024045769368306935, -1.8617809454547327, -1.511141602193014, -1.4511950651751917, -4.672266546879904, 0.047373268753290176]\n",
    "bucket_pick = [-0.04573041597475225, -1.8159015814410608, -1.2815788427936, -1.4384973684894007, -4.67054266134371, 0.04719312861561775]\n",
    "hover_pos = [-0.027931992207662404, -2.0021732489215296, -0.954012695943014, -1.719212834035055, -4.734914366398947, 0.02876925654709339]\n",
    "\n",
    "rob = urx.Robot(\"192.168.1.6\") #this assigns the robot at IP to rob\n",
    "robgrip = Robotiq_Two_Finger_Gripper(rob) #links gripper to rob\n",
    "\n",
    "rob.set_tcp((0,0,0,0,0,0)) #set robot flange to tool tip transformation\n",
    "rob.set_payload(0.5, (0,0,0)) #set payload in kg\n",
    "\n",
    "robgrip.open_gripper() #open gripper\n",
    "#robgrip.close_gripper() #close gripper\n",
    "#HELP: close gripper not responding? Wait?\n",
    "\n",
    "#a= rob.getj() #get current joint pos\n",
    "\n",
    "\n"
   ]
  },
  {
   "cell_type": "code",
   "execution_count": 5,
   "metadata": {},
   "outputs": [
    {
     "data": {
      "text/plain": [
       "[-0.027920071278707326,\n",
       " -2.0022690931903284,\n",
       " -0.9540846983539026,\n",
       " -1.719105068837301,\n",
       " -4.7349624077426355,\n",
       " 0.028817193582654]"
      ]
     },
     "execution_count": 5,
     "metadata": {},
     "output_type": "execute_result"
    }
   ],
   "source": [
    "rob.movej(hover_pos, acc = a, vel = v)"
   ]
  },
  {
   "cell_type": "code",
   "execution_count": 22,
   "metadata": {},
   "outputs": [],
   "source": [
    "#try new import get_force functions"
   ]
  },
  {
   "cell_type": "code",
   "execution_count": 7,
   "metadata": {},
   "outputs": [
    {
     "name": "stdout",
     "output_type": "stream",
     "text": [
      "starting translation\n",
      "\n",
      "stage 1 done\n",
      "\n",
      "stage 2 done\n",
      "\n"
     ]
    },
    {
     "ename": "AttributeError",
     "evalue": "'NoneType' object has no attribute 'getTCFForce'",
     "output_type": "error",
     "traceback": [
      "\u001b[0;31m---------------------------------------------------------------------------\u001b[0m",
      "\u001b[0;31mAttributeError\u001b[0m                            Traceback (most recent call last)",
      "\u001b[0;32m<ipython-input-7-4e72d802ff47>\u001b[0m in \u001b[0;36m<module>\u001b[0;34m()\u001b[0m\n\u001b[1;32m     22\u001b[0m     \u001b[0;32mif\u001b[0m \u001b[0mwait\u001b[0m\u001b[0;34m==\u001b[0m\u001b[0mTrue\u001b[0m\u001b[0;34m,\u001b[0m \u001b[0mwaits\u001b[0m \u001b[0;32mfor\u001b[0m \u001b[0mnext\u001b[0m \u001b[0mpacket\u001b[0m \u001b[0mbefore\u001b[0m \u001b[0mreturning\u001b[0m\u001b[0;34m\u001b[0m\u001b[0m\n\u001b[1;32m     23\u001b[0m \"\"\"\n\u001b[0;32m---> 24\u001b[0;31m \u001b[0ma\u001b[0m \u001b[0;34m=\u001b[0m \u001b[0mrob\u001b[0m\u001b[0;34m.\u001b[0m\u001b[0mget_force\u001b[0m\u001b[0;34m(\u001b[0m\u001b[0mTrue\u001b[0m\u001b[0;34m)\u001b[0m\u001b[0;34m\u001b[0m\u001b[0m\n\u001b[0m\u001b[1;32m     25\u001b[0m \u001b[0;32mprint\u001b[0m\u001b[0;34m(\u001b[0m\u001b[0ma\u001b[0m\u001b[0;34m)\u001b[0m\u001b[0;34m\u001b[0m\u001b[0m\n\u001b[1;32m     26\u001b[0m \u001b[0;32mprint\u001b[0m\u001b[0;34m(\u001b[0m\u001b[0;34m)\u001b[0m\u001b[0;34m\u001b[0m\u001b[0m\n",
      "\u001b[0;32m/Users/Joey/anaconda3/envs/ur5/lib/python2.7/site-packages/urx-0.11.0-py2.7.egg/urx/urrobot.pyc\u001b[0m in \u001b[0;36mget_force\u001b[0;34m(self, wait)\u001b[0m\n\u001b[1;32m     99\u001b[0m         \u001b[0;32mif\u001b[0m \u001b[0mwait\u001b[0m\u001b[0;34m==\u001b[0m\u001b[0mTrue\u001b[0m\u001b[0;34m,\u001b[0m \u001b[0mwaits\u001b[0m \u001b[0;32mfor\u001b[0m \u001b[0mnext\u001b[0m \u001b[0mpacket\u001b[0m \u001b[0mbefore\u001b[0m \u001b[0mreturning\u001b[0m\u001b[0;34m\u001b[0m\u001b[0m\n\u001b[1;32m    100\u001b[0m         \"\"\"\n\u001b[0;32m--> 101\u001b[0;31m         \u001b[0mtcpf\u001b[0m \u001b[0;34m=\u001b[0m \u001b[0mself\u001b[0m\u001b[0;34m.\u001b[0m\u001b[0mget_tcp_force\u001b[0m\u001b[0;34m(\u001b[0m\u001b[0mwait\u001b[0m\u001b[0;34m)\u001b[0m\u001b[0;34m\u001b[0m\u001b[0m\n\u001b[0m\u001b[1;32m    102\u001b[0m         \u001b[0mforce\u001b[0m \u001b[0;34m=\u001b[0m \u001b[0;36m0\u001b[0m\u001b[0;34m\u001b[0m\u001b[0m\n\u001b[1;32m    103\u001b[0m         \u001b[0;32mfor\u001b[0m \u001b[0mi\u001b[0m \u001b[0;32min\u001b[0m \u001b[0mtcpf\u001b[0m\u001b[0;34m:\u001b[0m\u001b[0;34m\u001b[0m\u001b[0m\n",
      "\u001b[0;32m/Users/Joey/anaconda3/envs/ur5/lib/python2.7/site-packages/urx-0.11.0-py2.7.egg/urx/urrobot.pyc\u001b[0m in \u001b[0;36mget_tcp_force\u001b[0;34m(self, wait)\u001b[0m\n\u001b[1;32m     92\u001b[0m         \u001b[0;32mif\u001b[0m \u001b[0mwait\u001b[0m\u001b[0;34m==\u001b[0m\u001b[0mTrue\u001b[0m\u001b[0;34m,\u001b[0m \u001b[0mwaits\u001b[0m \u001b[0;32mfor\u001b[0m \u001b[0mnext\u001b[0m \u001b[0mpacket\u001b[0m \u001b[0mbefore\u001b[0m \u001b[0mreturning\u001b[0m\u001b[0;34m\u001b[0m\u001b[0m\n\u001b[1;32m     93\u001b[0m         \"\"\"\n\u001b[0;32m---> 94\u001b[0;31m         \u001b[0;32mreturn\u001b[0m \u001b[0mself\u001b[0m\u001b[0;34m.\u001b[0m\u001b[0mrtmon\u001b[0m\u001b[0;34m.\u001b[0m\u001b[0mgetTCFForce\u001b[0m\u001b[0;34m(\u001b[0m\u001b[0mwait\u001b[0m\u001b[0;34m)\u001b[0m\u001b[0;34m\u001b[0m\u001b[0m\n\u001b[0m\u001b[1;32m     95\u001b[0m \u001b[0;34m\u001b[0m\u001b[0m\n\u001b[1;32m     96\u001b[0m     \u001b[0;32mdef\u001b[0m \u001b[0mget_force\u001b[0m\u001b[0;34m(\u001b[0m\u001b[0mself\u001b[0m\u001b[0;34m,\u001b[0m \u001b[0mwait\u001b[0m\u001b[0;34m=\u001b[0m\u001b[0mTrue\u001b[0m\u001b[0;34m)\u001b[0m\u001b[0;34m:\u001b[0m\u001b[0;34m\u001b[0m\u001b[0m\n",
      "\u001b[0;31mAttributeError\u001b[0m: 'NoneType' object has no attribute 'getTCFForce'"
     ]
    }
   ],
   "source": [
    "\n",
    "#move to cam_init pos\n",
    "#def movej(self, joints, acc=0.1, vel=0.05, wait=True, relative=False, threshold=None):\n",
    "rob.movej(hover_pos, acc = a, vel = v)\n",
    "\n",
    "#getforce test\n",
    "#print(\"relative move back and forth in tool coordinate\")\n",
    "# def translate(self, vect, acc=0.01, vel=0.01, wait=True, command=\"movel\"):\n",
    "\"\"\"\n",
    "move tool in base coordinate, keeping orientation\n",
    "\"\"\"\n",
    "#basically, it gets currrent pos and displaces from current pos the vect\n",
    "print(\"starting translation\\n\")\n",
    "rob.translate_tool((0,0,0.205), acc=a, vel=v)\n",
    "print(\"stage 1 done\\n\")\n",
    "\n",
    "rob.translate_tool((0, 0, 0), acc=a, vel=v)\n",
    "print(\"stage 2 done\\n\")\n",
    "\"\"\"\n",
    "def get_force(self, wait=True):\n",
    "    length of force vector returned by get_tcp_force\n",
    "    if wait==True, waits for next packet before returning\n",
    "\"\"\"\n",
    "a = rob.get_force(True)\n",
    "print(a)\n",
    "print()\n",
    "print(\"done translation\\n\")\n",
    "\n",
    "#move back to init pos\n",
    "#rob.movej(cam_init_pos, acc = a, vel = v)\n"
   ]
  },
  {
   "cell_type": "code",
   "execution_count": null,
   "metadata": {},
   "outputs": [],
   "source": []
  }
 ],
 "metadata": {
  "kernelspec": {
   "display_name": "Python 2",
   "language": "python",
   "name": "python2"
  },
  "language_info": {
   "codemirror_mode": {
    "name": "ipython",
    "version": 2
   },
   "file_extension": ".py",
   "mimetype": "text/x-python",
   "name": "python",
   "nbconvert_exporter": "python",
   "pygments_lexer": "ipython2",
   "version": "2.7.16"
  }
 },
 "nbformat": 4,
 "nbformat_minor": 2
}
